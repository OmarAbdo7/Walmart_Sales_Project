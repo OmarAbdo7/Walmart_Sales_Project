{
  "cells": [
    {
      "cell_type": "markdown",
      "metadata": {
        "id": "view-in-github",
        "colab_type": "text"
      },
      "source": [
        "<a href=\"https://colab.research.google.com/github/OmarAbdo7/Walmart_Sales_Project/blob/main/Bi_Project.ipynb\" target=\"_parent\"><img src=\"https://colab.research.google.com/assets/colab-badge.svg\" alt=\"Open In Colab\"/></a>"
      ]
    },
    {
      "cell_type": "markdown",
      "source": [
        "# **Libraries**"
      ],
      "metadata": {
        "id": "1gR9H060XLaz"
      }
    },
    {
      "cell_type": "code",
      "execution_count": 38,
      "metadata": {
        "id": "Od0FahvWV0Np"
      },
      "outputs": [],
      "source": [
        "import pandas as pd\n",
        "import numpy as np\n",
        "import matplotlib.pyplot as plt\n",
        "import seaborn as sns\n",
        "from sklearn.preprocessing import LabelEncoder"
      ]
    },
    {
      "cell_type": "markdown",
      "source": [
        "# **Reading the Data**"
      ],
      "metadata": {
        "id": "qZG5EOxy_DiG"
      }
    },
    {
      "cell_type": "code",
      "source": [
        "df = pd.read_csv('Walmart Dataset.csv',encoding='latin')"
      ],
      "metadata": {
        "id": "-843DnCg_C-k"
      },
      "execution_count": 39,
      "outputs": []
    },
    {
      "cell_type": "markdown",
      "source": [
        "# **Pre-Processing**"
      ],
      "metadata": {
        "id": "9lcwZQGeYM25"
      }
    },
    {
      "cell_type": "code",
      "execution_count": 40,
      "metadata": {
        "id": "qsmbjGr5amoJ",
        "colab": {
          "base_uri": "https://localhost:8080/"
        },
        "outputId": "3ceb1288-e01b-475d-f57f-ea0ff1918e67"
      },
      "outputs": [
        {
          "output_type": "stream",
          "name": "stdout",
          "text": [
            "<class 'pandas.core.frame.DataFrame'>\n",
            "RangeIndex: 9994 entries, 0 to 9993\n",
            "Data columns (total 21 columns):\n",
            " #   Column         Non-Null Count  Dtype  \n",
            "---  ------         --------------  -----  \n",
            " 0   Row ID         9994 non-null   int64  \n",
            " 1   Order ID       9994 non-null   object \n",
            " 2   Order Date     9994 non-null   object \n",
            " 3   Ship Date      9994 non-null   object \n",
            " 4   Ship Mode      9971 non-null   object \n",
            " 5   Customer ID    9994 non-null   object \n",
            " 6   Customer Name  9994 non-null   object \n",
            " 7   Segment        9994 non-null   object \n",
            " 8   Country        9994 non-null   object \n",
            " 9   City           9994 non-null   object \n",
            " 10  State          9994 non-null   object \n",
            " 11  Postal Code    9994 non-null   int64  \n",
            " 12  Region         9994 non-null   object \n",
            " 13  Product ID     9994 non-null   object \n",
            " 14  Category       9994 non-null   object \n",
            " 15  Sub-Category   9994 non-null   object \n",
            " 16  Product Name   9994 non-null   object \n",
            " 17  Sales          9994 non-null   float64\n",
            " 18  Quantity       9994 non-null   int64  \n",
            " 19  Discount       9945 non-null   float64\n",
            " 20  Profit         9994 non-null   float64\n",
            "dtypes: float64(3), int64(3), object(15)\n",
            "memory usage: 1.6+ MB\n"
          ]
        }
      ],
      "source": [
        "df.info()"
      ]
    },
    {
      "cell_type": "code",
      "source": [
        "df.isnull().sum()"
      ],
      "metadata": {
        "colab": {
          "base_uri": "https://localhost:8080/"
        },
        "id": "oySQPT417kew",
        "outputId": "cbc34bbf-187b-4315-e198-5bf96bddafa9"
      },
      "execution_count": 41,
      "outputs": [
        {
          "output_type": "execute_result",
          "data": {
            "text/plain": [
              "Row ID            0\n",
              "Order ID          0\n",
              "Order Date        0\n",
              "Ship Date         0\n",
              "Ship Mode        23\n",
              "Customer ID       0\n",
              "Customer Name     0\n",
              "Segment           0\n",
              "Country           0\n",
              "City              0\n",
              "State             0\n",
              "Postal Code       0\n",
              "Region            0\n",
              "Product ID        0\n",
              "Category          0\n",
              "Sub-Category      0\n",
              "Product Name      0\n",
              "Sales             0\n",
              "Quantity          0\n",
              "Discount         49\n",
              "Profit            0\n",
              "dtype: int64"
            ]
          },
          "metadata": {},
          "execution_count": 41
        }
      ]
    },
    {
      "cell_type": "code",
      "source": [
        "## there is nulls in Ship Mode(object) and Discount(float) columns\n",
        "## dealing with nulls in Discount column\n",
        "df['Discount'] = df['Discount'].fillna(df['Discount'].mean())"
      ],
      "metadata": {
        "id": "SVMUy1KY-lZk"
      },
      "execution_count": 42,
      "outputs": []
    },
    {
      "cell_type": "code",
      "source": [
        "df.isnull().sum()"
      ],
      "metadata": {
        "colab": {
          "base_uri": "https://localhost:8080/"
        },
        "id": "XdxE4mX6koPo",
        "outputId": "fb82234d-e00a-4f36-fb01-80f3f03dfd36"
      },
      "execution_count": 43,
      "outputs": [
        {
          "output_type": "execute_result",
          "data": {
            "text/plain": [
              "Row ID            0\n",
              "Order ID          0\n",
              "Order Date        0\n",
              "Ship Date         0\n",
              "Ship Mode        23\n",
              "Customer ID       0\n",
              "Customer Name     0\n",
              "Segment           0\n",
              "Country           0\n",
              "City              0\n",
              "State             0\n",
              "Postal Code       0\n",
              "Region            0\n",
              "Product ID        0\n",
              "Category          0\n",
              "Sub-Category      0\n",
              "Product Name      0\n",
              "Sales             0\n",
              "Quantity          0\n",
              "Discount          0\n",
              "Profit            0\n",
              "dtype: int64"
            ]
          },
          "metadata": {},
          "execution_count": 43
        }
      ]
    },
    {
      "cell_type": "code",
      "source": [
        "## dealing with nulls in Ship Mode column\n",
        "df['Ship Mode'].mode() # Categorical column"
      ],
      "metadata": {
        "colab": {
          "base_uri": "https://localhost:8080/"
        },
        "id": "d26wO1u1eQgW",
        "outputId": "a5c9b586-1536-4d01-9afd-6278e8527b1e"
      },
      "execution_count": 44,
      "outputs": [
        {
          "output_type": "execute_result",
          "data": {
            "text/plain": [
              "0    Standard Class\n",
              "Name: Ship Mode, dtype: object"
            ]
          },
          "metadata": {},
          "execution_count": 44
        }
      ]
    },
    {
      "cell_type": "code",
      "source": [
        "df['Ship Mode'].fillna('Standard Class', inplace=True)"
      ],
      "metadata": {
        "id": "XALu7VYrfhS-"
      },
      "execution_count": 45,
      "outputs": []
    },
    {
      "cell_type": "code",
      "source": [
        "df.isnull().sum()"
      ],
      "metadata": {
        "colab": {
          "base_uri": "https://localhost:8080/"
        },
        "id": "AOY9dzgWfoqH",
        "outputId": "47135ef5-1374-4075-8ea8-cba214a6100d"
      },
      "execution_count": 46,
      "outputs": [
        {
          "output_type": "execute_result",
          "data": {
            "text/plain": [
              "Row ID           0\n",
              "Order ID         0\n",
              "Order Date       0\n",
              "Ship Date        0\n",
              "Ship Mode        0\n",
              "Customer ID      0\n",
              "Customer Name    0\n",
              "Segment          0\n",
              "Country          0\n",
              "City             0\n",
              "State            0\n",
              "Postal Code      0\n",
              "Region           0\n",
              "Product ID       0\n",
              "Category         0\n",
              "Sub-Category     0\n",
              "Product Name     0\n",
              "Sales            0\n",
              "Quantity         0\n",
              "Discount         0\n",
              "Profit           0\n",
              "dtype: int64"
            ]
          },
          "metadata": {},
          "execution_count": 46
        }
      ]
    },
    {
      "cell_type": "code",
      "source": [
        "from scipy import stats\n",
        "z_scores = stats.zscore(df['Sales'])\n",
        "outliers = df[(z_scores > 3) | (z_scores < -3)]"
      ],
      "metadata": {
        "id": "xFYii5W-6SZ_"
      },
      "execution_count": 47,
      "outputs": []
    },
    {
      "cell_type": "code",
      "source": [
        "Q1 = df['Sales'].quantile(0.25)\n",
        "Q3 = df['Sales'].quantile(0.75)\n",
        "IQR = Q3 - Q1\n",
        "\n",
        "# Define outlier bounds\n",
        "lower_bound = Q1 - 1.5 * IQR\n",
        "upper_bound = Q3 + 1.5 * IQR\n",
        "\n",
        "# Identify outliers\n",
        "outliers = df[(df['Sales'] < lower_bound) | (df['Sales'] > upper_bound)]"
      ],
      "metadata": {
        "id": "2XeG__X26dsu"
      },
      "execution_count": 48,
      "outputs": []
    },
    {
      "cell_type": "code",
      "source": [
        "df['Sales'] = df['Sales'].clip(lower=lower_bound, upper=upper_bound)"
      ],
      "metadata": {
        "id": "NhCU-6x-6dj1"
      },
      "execution_count": 49,
      "outputs": []
    },
    {
      "cell_type": "code",
      "source": [
        "df['Ship Mode'].value_counts()"
      ],
      "metadata": {
        "colab": {
          "base_uri": "https://localhost:8080/"
        },
        "id": "2OrdABeDjiNF",
        "outputId": "f213bb74-0f9e-4783-c9f3-f74058a60e4b"
      },
      "execution_count": 50,
      "outputs": [
        {
          "output_type": "execute_result",
          "data": {
            "text/plain": [
              "Ship Mode\n",
              "Standard Class    5968\n",
              "Second Class      1945\n",
              "First Class       1538\n",
              "Same Day           543\n",
              "Name: count, dtype: int64"
            ]
          },
          "metadata": {},
          "execution_count": 50
        }
      ]
    },
    {
      "cell_type": "code",
      "source": [
        "df['Category'].value_counts()"
      ],
      "metadata": {
        "colab": {
          "base_uri": "https://localhost:8080/"
        },
        "id": "qtJ_ntkylvJ-",
        "outputId": "4320bd14-9a9b-46e5-acf6-2991e28ef67d"
      },
      "execution_count": 51,
      "outputs": [
        {
          "output_type": "execute_result",
          "data": {
            "text/plain": [
              "Category\n",
              "Office Supplies    6026\n",
              "Furniture          2121\n",
              "Technology         1847\n",
              "Name: count, dtype: int64"
            ]
          },
          "metadata": {},
          "execution_count": 51
        }
      ]
    },
    {
      "cell_type": "code",
      "source": [
        "df['Region'].value_counts()"
      ],
      "metadata": {
        "colab": {
          "base_uri": "https://localhost:8080/"
        },
        "id": "fEiHY55RsfHf",
        "outputId": "9dd8aaf6-1122-431b-c9ed-a70beace941a"
      },
      "execution_count": 52,
      "outputs": [
        {
          "output_type": "execute_result",
          "data": {
            "text/plain": [
              "Region\n",
              "West       3203\n",
              "East       2848\n",
              "Central    2323\n",
              "South      1620\n",
              "Name: count, dtype: int64"
            ]
          },
          "metadata": {},
          "execution_count": 52
        }
      ]
    },
    {
      "cell_type": "code",
      "source": [
        "df.info()"
      ],
      "metadata": {
        "colab": {
          "base_uri": "https://localhost:8080/"
        },
        "id": "2VHRj_0QXJsS",
        "outputId": "678ca238-990e-4edb-96bb-86f5a9fef4e2"
      },
      "execution_count": 53,
      "outputs": [
        {
          "output_type": "stream",
          "name": "stdout",
          "text": [
            "<class 'pandas.core.frame.DataFrame'>\n",
            "RangeIndex: 9994 entries, 0 to 9993\n",
            "Data columns (total 21 columns):\n",
            " #   Column         Non-Null Count  Dtype  \n",
            "---  ------         --------------  -----  \n",
            " 0   Row ID         9994 non-null   int64  \n",
            " 1   Order ID       9994 non-null   object \n",
            " 2   Order Date     9994 non-null   object \n",
            " 3   Ship Date      9994 non-null   object \n",
            " 4   Ship Mode      9994 non-null   object \n",
            " 5   Customer ID    9994 non-null   object \n",
            " 6   Customer Name  9994 non-null   object \n",
            " 7   Segment        9994 non-null   object \n",
            " 8   Country        9994 non-null   object \n",
            " 9   City           9994 non-null   object \n",
            " 10  State          9994 non-null   object \n",
            " 11  Postal Code    9994 non-null   int64  \n",
            " 12  Region         9994 non-null   object \n",
            " 13  Product ID     9994 non-null   object \n",
            " 14  Category       9994 non-null   object \n",
            " 15  Sub-Category   9994 non-null   object \n",
            " 16  Product Name   9994 non-null   object \n",
            " 17  Sales          9994 non-null   float64\n",
            " 18  Quantity       9994 non-null   int64  \n",
            " 19  Discount       9994 non-null   float64\n",
            " 20  Profit         9994 non-null   float64\n",
            "dtypes: float64(3), int64(3), object(15)\n",
            "memory usage: 1.6+ MB\n"
          ]
        }
      ]
    },
    {
      "cell_type": "code",
      "source": [
        "df['Ship Date'] = pd.to_datetime(df['Ship Date'])\n",
        "df['Order Date'] = pd.to_datetime(df['Order Date'])"
      ],
      "metadata": {
        "id": "RVq7qGUeyLK8"
      },
      "execution_count": 54,
      "outputs": []
    },
    {
      "cell_type": "code",
      "execution_count": 55,
      "metadata": {
        "id": "9Gt6atnmdZ-J",
        "colab": {
          "base_uri": "https://localhost:8080/"
        },
        "outputId": "43109f26-e042-479b-a9bc-ffdf1ce3e95a"
      },
      "outputs": [
        {
          "output_type": "execute_result",
          "data": {
            "text/plain": [
              "0"
            ]
          },
          "metadata": {},
          "execution_count": 55
        }
      ],
      "source": [
        "df.duplicated().sum()"
      ]
    },
    {
      "cell_type": "code",
      "source": [
        "from sklearn.preprocessing import LabelEncoder\n",
        "\n",
        "label_encoders = {col: LabelEncoder() for col in ['Ship Mode', 'Segment', 'Region', 'Category', 'Sub-Category']}\n",
        "\n",
        "for col in label_encoders:\n",
        "    df[col] = label_encoders[col].fit_transform(df[col])"
      ],
      "metadata": {
        "id": "m-W25XxnfqVa"
      },
      "execution_count": 56,
      "outputs": []
    },
    {
      "cell_type": "code",
      "source": [
        "df.info()"
      ],
      "metadata": {
        "colab": {
          "base_uri": "https://localhost:8080/"
        },
        "id": "HmTwr7DvyK17",
        "outputId": "6049d11c-8c49-4b4e-d6a5-817b428a7f22"
      },
      "execution_count": 57,
      "outputs": [
        {
          "output_type": "stream",
          "name": "stdout",
          "text": [
            "<class 'pandas.core.frame.DataFrame'>\n",
            "RangeIndex: 9994 entries, 0 to 9993\n",
            "Data columns (total 21 columns):\n",
            " #   Column         Non-Null Count  Dtype         \n",
            "---  ------         --------------  -----         \n",
            " 0   Row ID         9994 non-null   int64         \n",
            " 1   Order ID       9994 non-null   object        \n",
            " 2   Order Date     9994 non-null   datetime64[ns]\n",
            " 3   Ship Date      9994 non-null   datetime64[ns]\n",
            " 4   Ship Mode      9994 non-null   int64         \n",
            " 5   Customer ID    9994 non-null   object        \n",
            " 6   Customer Name  9994 non-null   object        \n",
            " 7   Segment        9994 non-null   int64         \n",
            " 8   Country        9994 non-null   object        \n",
            " 9   City           9994 non-null   object        \n",
            " 10  State          9994 non-null   object        \n",
            " 11  Postal Code    9994 non-null   int64         \n",
            " 12  Region         9994 non-null   int64         \n",
            " 13  Product ID     9994 non-null   object        \n",
            " 14  Category       9994 non-null   int64         \n",
            " 15  Sub-Category   9994 non-null   int64         \n",
            " 16  Product Name   9994 non-null   object        \n",
            " 17  Sales          9994 non-null   float64       \n",
            " 18  Quantity       9994 non-null   int64         \n",
            " 19  Discount       9994 non-null   float64       \n",
            " 20  Profit         9994 non-null   float64       \n",
            "dtypes: datetime64[ns](2), float64(3), int64(8), object(8)\n",
            "memory usage: 1.6+ MB\n"
          ]
        }
      ]
    },
    {
      "cell_type": "markdown",
      "source": [
        "# **Summary Statistics**"
      ],
      "metadata": {
        "id": "fcKDAOk5VPfc"
      }
    },
    {
      "cell_type": "code",
      "execution_count": 58,
      "metadata": {
        "id": "d2rfY4sDgi49",
        "colab": {
          "base_uri": "https://localhost:8080/"
        },
        "outputId": "e9748746-6db6-425d-a9fc-82b6034c80a0"
      },
      "outputs": [
        {
          "output_type": "stream",
          "name": "stdout",
          "text": [
            "Quantity data : \n",
            "Total  :  37873  Mean :  3.789573744246548  Median :  3.0  Mode :  0    3\n",
            "Name: Quantity, dtype: int64      Standard Deviation :  2.2251096911414  Variance :  4.951113137611377\n"
          ]
        }
      ],
      "source": [
        "Total = df['Quantity'].sum()\n",
        "quantity_mean =df['Quantity'].mean()\n",
        "quantity_median =df['Quantity'].median()\n",
        "quantity_mode =df['Quantity'].mode()\n",
        "quantity_std =df['Quantity'].std()\n",
        "quantity_variance =df['Quantity'].var()\n",
        "print(\"Quantity data : \")\n",
        "print(\"Total  : \",Total, \" Mean : \",quantity_mean,\" Median : \",quantity_median,\" Mode : \",quantity_mode,\"     Standard Deviation : \",quantity_std,\" Variance : \",quantity_variance)"
      ]
    },
    {
      "cell_type": "code",
      "execution_count": 59,
      "metadata": {
        "id": "kyCk5L4AkvCw",
        "colab": {
          "base_uri": "https://localhost:8080/"
        },
        "outputId": "0eec51ef-9701-474d-de68-cbe5ec857f4f"
      },
      "outputs": [
        {
          "output_type": "stream",
          "name": "stdout",
          "text": [
            "Profit data : \n",
            "Total  :  286397.0217  Mean :  28.65689630778467  Median :  8.6665  Mode :  0    0.0\n",
            "Name: Profit, dtype: float64      Standard Deviation :  234.2601076909573  Variance :  54877.79805537892\n"
          ]
        }
      ],
      "source": [
        "Total = df['Profit'].sum()\n",
        "Profit_mean =df['Profit'].mean()\n",
        "Profit_median =df['Profit'].median()\n",
        "Profit_mode =df['Profit'].mode()\n",
        "Profit_std =df['Profit'].std()\n",
        "Profit_variance =df['Profit'].var()\n",
        "print(\"Profit data : \")\n",
        "print(\"Total  : \",Total, \" Mean : \",Profit_mean,\" Median : \",Profit_median,\" Mode : \",Profit_mode,\"     Standard Deviation : \",Profit_std,\" Variance : \",Profit_variance)"
      ]
    },
    {
      "cell_type": "code",
      "execution_count": 60,
      "metadata": {
        "id": "boYwpUHmlPH4",
        "colab": {
          "base_uri": "https://localhost:8080/"
        },
        "outputId": "3c05bfab-c56c-40d3-87ea-d8f208f927ad"
      },
      "outputs": [
        {
          "output_type": "stream",
          "name": "stdout",
          "text": [
            "Sales data : \n",
            "Total  :  1401969.3654  Mean :  140.28110520312188  Median :  54.489999999999995  Mode :  0    498.93\n",
            "Name: Sales, dtype: float64      Standard Deviation :  168.8042414994666  Variance :  28494.871948210242\n"
          ]
        }
      ],
      "source": [
        "Total = df['Sales'].sum()\n",
        "Sales_mean =df['Sales'].mean()\n",
        "Sales_median =df['Sales'].median()\n",
        "Sales_mode =df['Sales'].mode()\n",
        "Sales_std =df['Sales'].std()\n",
        "Sales_variance =df['Sales'].var()\n",
        "print(\"Sales data : \")\n",
        "print(\"Total  : \",Total, \" Mean : \",Sales_mean,\" Median : \",Sales_median,\" Mode : \",Sales_mode,\"     Standard Deviation : \",Sales_std,\" Variance : \",Sales_variance)"
      ]
    },
    {
      "cell_type": "markdown",
      "source": [
        "# **Visualizing**"
      ],
      "metadata": {
        "id": "PtwvFlj_VYNp"
      }
    },
    {
      "cell_type": "code",
      "source": [
        "# To identify the Category with the highest sales\n",
        "max_sales_category = df.groupby('Category')['Sales'].sum()\n",
        "max_sales_category"
      ],
      "metadata": {
        "colab": {
          "base_uri": "https://localhost:8080/"
        },
        "id": "uzLjOuNfbMjQ",
        "outputId": "8b22c6b7-c56d-48de-8302-fa723f84b23a"
      },
      "execution_count": 61,
      "outputs": [
        {
          "output_type": "execute_result",
          "data": {
            "text/plain": [
              "Category\n",
              "0    480878.0084\n",
              "1    493104.0040\n",
              "2    427987.3530\n",
              "Name: Sales, dtype: float64"
            ]
          },
          "metadata": {},
          "execution_count": 61
        }
      ]
    },
    {
      "cell_type": "code",
      "source": [
        "# To identify the segement with the highest sales\n",
        "max_sales_segment = df.groupby('Segment')['Sales'].sum()\n",
        "max_sales_segment"
      ],
      "metadata": {
        "colab": {
          "base_uri": "https://localhost:8080/"
        },
        "id": "_qFDeORtdSdL",
        "outputId": "06764965-93a9-4249-ea32-8aa7d37f4092"
      },
      "execution_count": 62,
      "outputs": [
        {
          "output_type": "execute_result",
          "data": {
            "text/plain": [
              "Segment\n",
              "0    719606.5338\n",
              "1    431102.1318\n",
              "2    251260.6998\n",
              "Name: Sales, dtype: float64"
            ]
          },
          "metadata": {},
          "execution_count": 62
        }
      ]
    },
    {
      "cell_type": "code",
      "source": [
        "#To identify the Region with the highest sales\n",
        "max_sales_region = df.groupby('Region')['Sales'].sum()\n",
        "max_sales_region"
      ],
      "metadata": {
        "colab": {
          "base_uri": "https://localhost:8080/"
        },
        "id": "YK9tI8nCdSP4",
        "outputId": "594990df-23ea-49f2-c7c0-42f1065fc260"
      },
      "execution_count": 63,
      "outputs": [
        {
          "output_type": "execute_result",
          "data": {
            "text/plain": [
              "Region\n",
              "0    311665.9234\n",
              "1    399530.1040\n",
              "2    228363.2555\n",
              "3    462410.0825\n",
              "Name: Sales, dtype: float64"
            ]
          },
          "metadata": {},
          "execution_count": 63
        }
      ]
    },
    {
      "cell_type": "code",
      "source": [
        "#To identify the State with the highest sales\n",
        "max_sales_state = df.groupby('State')['Sales'].sum()\n",
        "max_sales_state"
      ],
      "metadata": {
        "colab": {
          "base_uri": "https://localhost:8080/"
        },
        "id": "_KSbDqardSIJ",
        "outputId": "8773b9e9-9a86-4ade-8b48-16c043fc01f0"
      },
      "execution_count": 64,
      "outputs": [
        {
          "output_type": "execute_result",
          "data": {
            "text/plain": [
              "State\n",
              "Alabama                  10893.3100\n",
              "Arizona                  28928.0290\n",
              "Arkansas                  8790.7400\n",
              "CALIFORNIA                 236.1740\n",
              "California              293984.9035\n",
              "Colorado                 24181.8930\n",
              "Connecticut              10877.5970\n",
              "Delaware                 13060.6590\n",
              "District of Columbia      1215.4300\n",
              "Florida                  48049.6035\n",
              "Georgia                  28137.8300\n",
              "Idaho                     3555.5360\n",
              "Illinois                 60270.7530\n",
              "Indiana                  23167.3700\n",
              "Iowa                      2984.8000\n",
              "Kansas                    2914.3100\n",
              "Kentucky                 22769.0600\n",
              "Louisiana                 6638.7200\n",
              "Maine                     1270.5300\n",
              "Maryland                 16042.9020\n",
              "Massachusetts            20546.1620\n",
              "Michigan                 42700.6960\n",
              "Minnesota                13635.6000\n",
              "Mississippi               8191.7600\n",
              "Missouri                  9918.7400\n",
              "Montana                   2461.2420\n",
              "Nebraska                  4329.6300\n",
              "Nevada                    6397.3720\n",
              "New Hampshire             4488.2800\n",
              "New Jersey               17652.3820\n",
              "New Mexico                4255.6220\n",
              "New York                169214.6270\n",
              "North Carolina           31973.6850\n",
              "North Dakota               714.0800\n",
              "Ohio                     55955.7180\n",
              "Oklahoma                 12605.1200\n",
              "Oregon                   15272.0990\n",
              "Pennsylvania             75065.4970\n",
              "Rhode Island             10202.9700\n",
              "South Carolina            6462.7600\n",
              "South Dakota              1315.5600\n",
              "Tennessee                20345.1470\n",
              "Texas                   116576.6344\n",
              "Utah                      6966.7560\n",
              "Vermont                   2901.9400\n",
              "Virginia                 36110.6400\n",
              "Washington               75671.5260\n",
              "West Virginia             1035.4100\n",
              "Wisconsin                20532.6300\n",
              "Wyoming                    498.9300\n",
              "Name: Sales, dtype: float64"
            ]
          },
          "metadata": {},
          "execution_count": 64
        }
      ]
    },
    {
      "cell_type": "code",
      "source": [
        "#To identify the City with the highest sales\n",
        "max_sales_city = df.groupby('City')['Sales'].sum()\n",
        "max_sales_city"
      ],
      "metadata": {
        "colab": {
          "base_uri": "https://localhost:8080/"
        },
        "id": "6gwRt_pCiP_4",
        "outputId": "194924e5-8922-4f5b-8421-1bbf3d5afa66"
      },
      "execution_count": 65,
      "outputs": [
        {
          "output_type": "execute_result",
          "data": {
            "text/plain": [
              "City\n",
              "Aberdeen         25.500\n",
              "Abilene           1.392\n",
              "Akron          2563.508\n",
              "Albuquerque    2124.090\n",
              "Alexandria     1854.450\n",
              "                 ...   \n",
              "Woonsocket      195.550\n",
              "Yonkers        2874.014\n",
              "York            817.978\n",
              "Yucaipa          50.800\n",
              "Yuma            739.810\n",
              "Name: Sales, Length: 531, dtype: float64"
            ]
          },
          "metadata": {},
          "execution_count": 65
        }
      ]
    },
    {
      "cell_type": "code",
      "source": [
        "#To identify the State with the highest profit\n",
        "max_prof_state = df.groupby('State')['Profit'].sum()\n",
        "max_prof_state"
      ],
      "metadata": {
        "colab": {
          "base_uri": "https://localhost:8080/"
        },
        "id": "8wQysarJhAdA",
        "outputId": "3dd1c99d-85e9-4446-9cf2-c27bf055fda0"
      },
      "execution_count": 66,
      "outputs": [
        {
          "output_type": "execute_result",
          "data": {
            "text/plain": [
              "State\n",
              "Alabama                  5786.8253\n",
              "Arizona                 -3427.9246\n",
              "Arkansas                 4008.6871\n",
              "CALIFORNIA                 96.2399\n",
              "California              76285.1472\n",
              "Colorado                -6527.8579\n",
              "Connecticut              3511.4918\n",
              "Delaware                 9977.3748\n",
              "District of Columbia     1059.5893\n",
              "Florida                 -3399.3017\n",
              "Georgia                 16250.0433\n",
              "Idaho                     826.7231\n",
              "Illinois               -12607.8870\n",
              "Indiana                 18382.9363\n",
              "Iowa                     1183.8119\n",
              "Kansas                    836.4435\n",
              "Kentucky                11199.6966\n",
              "Louisiana                2196.1023\n",
              "Maine                     454.4862\n",
              "Maryland                 7031.1788\n",
              "Massachusetts            6785.5016\n",
              "Michigan                24463.1876\n",
              "Minnesota               10823.1874\n",
              "Mississippi              3172.9762\n",
              "Missouri                 6436.2105\n",
              "Montana                  1833.3285\n",
              "Nebraska                 2037.0942\n",
              "Nevada                   3316.7659\n",
              "New Hampshire            1706.5028\n",
              "New Jersey               9772.9138\n",
              "New Mexico               1157.1161\n",
              "New York                74038.5486\n",
              "North Carolina          -7490.9122\n",
              "North Dakota              230.1497\n",
              "Ohio                   -16971.3766\n",
              "Oklahoma                 4853.9560\n",
              "Oregon                  -1190.4705\n",
              "Pennsylvania           -15559.9603\n",
              "Rhode Island             7285.6293\n",
              "South Carolina           1769.0566\n",
              "South Dakota              394.8283\n",
              "Tennessee               -5341.6936\n",
              "Texas                  -25729.3563\n",
              "Utah                     2546.5335\n",
              "Vermont                  2244.9783\n",
              "Virginia                18597.9504\n",
              "Washington              33402.6517\n",
              "West Virginia             185.9216\n",
              "Wisconsin                8401.8004\n",
              "Wyoming                   100.1960\n",
              "Name: Profit, dtype: float64"
            ]
          },
          "metadata": {},
          "execution_count": 66
        }
      ]
    },
    {
      "cell_type": "code",
      "source": [
        "#To identify the City with the highest profit\n",
        "max_prof_city = df.groupby('City')['Profit'].sum()\n",
        "max_prof_city"
      ],
      "metadata": {
        "colab": {
          "base_uri": "https://localhost:8080/"
        },
        "id": "knO7bosGiQDe",
        "outputId": "d4dac08e-b80a-40c2-de0d-aa55274b36a1"
      },
      "execution_count": 67,
      "outputs": [
        {
          "output_type": "execute_result",
          "data": {
            "text/plain": [
              "City\n",
              "Aberdeen          6.6300\n",
              "Abilene          -3.7584\n",
              "Akron          -186.6356\n",
              "Albuquerque     634.0881\n",
              "Alexandria      318.6183\n",
              "                 ...    \n",
              "Woonsocket       78.6791\n",
              "Yonkers        2767.7557\n",
              "York           -102.1692\n",
              "Yucaipa          13.2080\n",
              "Yuma           -465.9909\n",
              "Name: Profit, Length: 531, dtype: float64"
            ]
          },
          "metadata": {},
          "execution_count": 67
        }
      ]
    },
    {
      "cell_type": "code",
      "source": [
        "sns.barplot(x=max_sales_category.index, y=max_sales_category.values, palette='hls')\n",
        "plt.xticks(rotation=90)\n",
        "plt.xlabel('Category')\n",
        "plt.ylabel('Sales')\n",
        "plt.title('Category with highest sales')\n",
        "plt.show()"
      ],
      "metadata": {
        "colab": {
          "base_uri": "https://localhost:8080/",
          "height": 0
        },
        "id": "dvCviOQLk5y6",
        "outputId": "e1895ad5-4dff-476d-d0d8-d522471274e1"
      },
      "execution_count": 68,
      "outputs": [
        {
          "output_type": "stream",
          "name": "stderr",
          "text": [
            "<ipython-input-68-4c30e0457860>:1: FutureWarning: \n",
            "\n",
            "Passing `palette` without assigning `hue` is deprecated and will be removed in v0.14.0. Assign the `x` variable to `hue` and set `legend=False` for the same effect.\n",
            "\n",
            "  sns.barplot(x=max_sales_category.index, y=max_sales_category.values, palette='hls')\n"
          ]
        },
        {
          "output_type": "display_data",
          "data": {
            "text/plain": [
              "<Figure size 640x480 with 1 Axes>"
            ],
            "image/png": "[encoded data removed]"
          },
          "metadata": {}
        }
      ]
    },
    {
      "cell_type": "code",
      "source": [
        "df.head()"
      ],
      "metadata": {
        "colab": {
          "base_uri": "https://localhost:8080/",
          "height": 0
        },
        "id": "9YKaBlbtlBEs",
        "outputId": "027c5d8d-c5be-4c16-ab86-df9f62abb6cf"
      },
      "execution_count": 69,
      "outputs": [
        {
          "output_type": "execute_result",
          "data": {
            "text/plain": [
              "   Row ID        Order ID Order Date  Ship Date  Ship Mode Customer ID  \\\n",
              "0       1  CA-2016-152156 2016-11-08 2016-11-11          2    CG-12520   \n",
              "1       2  CA-2016-152156 2016-11-08 2016-11-11          2    CG-12520   \n",
              "2       3  CA-2016-138688 2016-06-12 2016-06-16          2    DV-13045   \n",
              "3       4  US-2015-108966 2015-10-11 2015-10-18          3    SO-20335   \n",
              "4       5  US-2015-108966 2015-10-11 2015-10-18          3    SO-20335   \n",
              "\n",
              "     Customer Name  Segment        Country             City  ... Postal Code  \\\n",
              "0      Claire Gute        0  United States        Henderson  ...       42420   \n",
              "1      Claire Gute        0  United States        Henderson  ...       42420   \n",
              "2  Darrin Van Huff        1  United States      Los Angeles  ...       90036   \n",
              "3   Sean O'Donnell        0  United States  Fort Lauderdale  ...       33311   \n",
              "4   Sean O'Donnell        0  United States  Fort Lauderdale  ...       33311   \n",
              "\n",
              "   Region       Product ID Category  Sub-Category  \\\n",
              "0       2  FUR-BO-10001798        0             4   \n",
              "1       2  FUR-CH-10000454        0             5   \n",
              "2       3  OFF-LA-10000240        1            10   \n",
              "3       2  FUR-TA-10000577        0            16   \n",
              "4       2  OFF-ST-10000760        1            14   \n",
              "\n",
              "                                        Product Name    Sales  Quantity  \\\n",
              "0                  Bush Somerset Collection Bookcase  261.960         2   \n",
              "1  Hon Deluxe Fabric Upholstered Stacking Chairs,...  498.930         3   \n",
              "2  Self-Adhesive Address Labels for Typewriters b...   14.620         2   \n",
              "3      Bretford CR4500 Series Slim Rectangular Table  498.930         5   \n",
              "4                     Eldon Fold 'N Roll Cart System   22.368         2   \n",
              "\n",
              "   Discount    Profit  \n",
              "0      0.00   41.9136  \n",
              "1      0.00  219.5820  \n",
              "2      0.00    6.8714  \n",
              "3      0.45 -383.0310  \n",
              "4      0.20    2.5164  \n",
              "\n",
              "[5 rows x 21 columns]"
            ],
            "text/html": [
              "\n",
              "  <div id=\"df-acd6bcd5-409b-4c76-9c78-f49a915d2c88\" class=\"colab-df-container\">\n",
              "    <div>\n",
              "<style scoped>\n",
              "    .dataframe tbody tr th:only-of-type {\n",
              "        vertical-align: middle;\n",
              "    }\n",
              "\n",
              "    .dataframe tbody tr th {\n",
              "        vertical-align: top;\n",
              "    }\n",
              "\n",
              "    .dataframe thead th {\n",
              "        text-align: right;\n",
              "    }\n",
              "</style>\n",
              "<table border=\"1\" class=\"dataframe\">\n",
              "  <thead>\n",
              "    <tr style=\"text-align: right;\">\n",
              "      <th></th>\n",
              "      <th>Row ID</th>\n",
              "      <th>Order ID</th>\n",
              "      <th>Order Date</th>\n",
              "      <th>Ship Date</th>\n",
              "      <th>Ship Mode</th>\n",
              "      <th>Customer ID</th>\n",
              "      <th>Customer Name</th>\n",
              "      <th>Segment</th>\n",
              "      <th>Country</th>\n",
              "      <th>City</th>\n",
              "      <th>...</th>\n",
              "      <th>Postal Code</th>\n",
              "      <th>Region</th>\n",
              "      <th>Product ID</th>\n",
              "      <th>Category</th>\n",
              "      <th>Sub-Category</th>\n",
              "      <th>Product Name</th>\n",
              "      <th>Sales</th>\n",
              "      <th>Quantity</th>\n",
              "      <th>Discount</th>\n",
              "      <th>Profit</th>\n",
              "    </tr>\n",
              "  </thead>\n",
              "  <tbody>\n",
              "    <tr>\n",
              "      <th>0</th>\n",
              "      <td>1</td>\n",
              "      <td>CA-2016-152156</td>\n",
              "      <td>2016-11-08</td>\n",
              "      <td>2016-11-11</td>\n",
              "      <td>2</td>\n",
              "      <td>CG-12520</td>\n",
              "      <td>Claire Gute</td>\n",
              "      <td>0</td>\n",
              "      <td>United States</td>\n",
              "      <td>Henderson</td>\n",
              "      <td>...</td>\n",
              "      <td>42420</td>\n",
              "      <td>2</td>\n",
              "      <td>FUR-BO-10001798</td>\n",
              "      <td>0</td>\n",
              "      <td>4</td>\n",
              "      <td>Bush Somerset Collection Bookcase</td>\n",
              "      <td>261.960</td>\n",
              "      <td>2</td>\n",
              "      <td>0.00</td>\n",
              "      <td>41.9136</td>\n",
              "    </tr>\n",
              "    <tr>\n",
              "      <th>1</th>\n",
              "      <td>2</td>\n",
              "      <td>CA-2016-152156</td>\n",
              "      <td>2016-11-08</td>\n",
              "      <td>2016-11-11</td>\n",
              "      <td>2</td>\n",
              "      <td>CG-12520</td>\n",
              "      <td>Claire Gute</td>\n",
              "      <td>0</td>\n",
              "      <td>United States</td>\n",
              "      <td>Henderson</td>\n",
              "      <td>...</td>\n",
              "      <td>42420</td>\n",
              "      <td>2</td>\n",
              "      <td>FUR-CH-10000454</td>\n",
              "      <td>0</td>\n",
              "      <td>5</td>\n",
              "      <td>Hon Deluxe Fabric Upholstered Stacking Chairs,...</td>\n",
              "      <td>498.930</td>\n",
              "      <td>3</td>\n",
              "      <td>0.00</td>\n",
              "      <td>219.5820</td>\n",
              "    </tr>\n",
              "    <tr>\n",
              "      <th>2</th>\n",
              "      <td>3</td>\n",
              "      <td>CA-2016-138688</td>\n",
              "      <td>2016-06-12</td>\n",
              "      <td>2016-06-16</td>\n",
              "      <td>2</td>\n",
              "      <td>DV-13045</td>\n",
              "      <td>Darrin Van Huff</td>\n",
              "      <td>1</td>\n",
              "      <td>United States</td>\n",
              "      <td>Los Angeles</td>\n",
              "      <td>...</td>\n",
              "      <td>90036</td>\n",
              "      <td>3</td>\n",
              "      <td>OFF-LA-10000240</td>\n",
              "      <td>1</td>\n",
              "      <td>10</td>\n",
              "      <td>Self-Adhesive Address Labels for Typewriters b...</td>\n",
              "      <td>14.620</td>\n",
              "      <td>2</td>\n",
              "      <td>0.00</td>\n",
              "      <td>6.8714</td>\n",
              "    </tr>\n",
              "    <tr>\n",
              "      <th>3</th>\n",
              "      <td>4</td>\n",
              "      <td>US-2015-108966</td>\n",
              "      <td>2015-10-11</td>\n",
              "      <td>2015-10-18</td>\n",
              "      <td>3</td>\n",
              "      <td>SO-20335</td>\n",
              "      <td>Sean O'Donnell</td>\n",
              "      <td>0</td>\n",
              "      <td>United States</td>\n",
              "      <td>Fort Lauderdale</td>\n",
              "      <td>...</td>\n",
              "      <td>33311</td>\n",
              "      <td>2</td>\n",
              "      <td>FUR-TA-10000577</td>\n",
              "      <td>0</td>\n",
              "      <td>16</td>\n",
              "      <td>Bretford CR4500 Series Slim Rectangular Table</td>\n",
              "      <td>498.930</td>\n",
              "      <td>5</td>\n",
              "      <td>0.45</td>\n",
              "      <td>-383.0310</td>\n",
              "    </tr>\n",
              "    <tr>\n",
              "      <th>4</th>\n",
              "      <td>5</td>\n",
              "      <td>US-2015-108966</td>\n",
              "      <td>2015-10-11</td>\n",
              "      <td>2015-10-18</td>\n",
              "      <td>3</td>\n",
              "      <td>SO-20335</td>\n",
              "      <td>Sean O'Donnell</td>\n",
              "      <td>0</td>\n",
              "      <td>United States</td>\n",
              "      <td>Fort Lauderdale</td>\n",
              "      <td>...</td>\n",
              "      <td>33311</td>\n",
              "      <td>2</td>\n",
              "      <td>OFF-ST-10000760</td>\n",
              "      <td>1</td>\n",
              "      <td>14</td>\n",
              "      <td>Eldon Fold 'N Roll Cart System</td>\n",
              "      <td>22.368</td>\n",
              "      <td>2</td>\n",
              "      <td>0.20</td>\n",
              "      <td>2.5164</td>\n",
              "    </tr>\n",
              "  </tbody>\n",
              "</table>\n",
              "<p>5 rows × 21 columns</p>\n",
              "</div>\n",
              "    <div class=\"colab-df-buttons\">\n",
              "\n",
              "  <div class=\"colab-df-container\">\n",
              "    <button class=\"colab-df-convert\" onclick=\"convertToInteractive('df-acd6bcd5-409b-4c76-9c78-f49a915d2c88')\"\n",
              "            title=\"Convert this dataframe to an interactive table.\"\n",
              "            style=\"display:none;\">\n",
              "\n",
              "  <svg xmlns=\"http://www.w3.org/2000/svg\" height=\"24px\" viewBox=\"0 -960 960 960\">\n",
              "    <path d=\"M120-120v-720h720v720H120Zm60-500h600v-160H180v160Zm220 220h160v-160H400v160Zm0 220h160v-160H400v160ZM180-400h160v-160H180v160Zm440 0h160v-160H620v160ZM180-180h160v-160H180v160Zm440 0h160v-160H620v160Z\"/>\n",
              "  </svg>\n",
              "    </button>\n",
              "\n",
              "  <style>\n",
              "    .colab-df-container {\n",
              "      display:flex;\n",
              "      gap: 12px;\n",
              "    }\n",
              "\n",
              "    .colab-df-convert {\n",
              "      background-color: #E8F0FE;\n",
              "      border: none;\n",
              "      border-radius: 50%;\n",
              "      cursor: pointer;\n",
              "      display: none;\n",
              "      fill: #1967D2;\n",
              "      height: 32px;\n",
              "      padding: 0 0 0 0;\n",
              "      width: 32px;\n",
              "    }\n",
              "\n",
              "    .colab-df-convert:hover {\n",
              "      background-color: #E2EBFA;\n",
              "      box-shadow: 0px 1px 2px rgba(60, 64, 67, 0.3), 0px 1px 3px 1px rgba(60, 64, 67, 0.15);\n",
              "      fill: #174EA6;\n",
              "    }\n",
              "\n",
              "    .colab-df-buttons div {\n",
              "      margin-bottom: 4px;\n",
              "    }\n",
              "\n",
              "    [theme=dark] .colab-df-convert {\n",
              "      background-color: #3B4455;\n",
              "      fill: #D2E3FC;\n",
              "    }\n",
              "\n",
              "    [theme=dark] .colab-df-convert:hover {\n",
              "      background-color: #434B5C;\n",
              "      box-shadow: 0px 1px 3px 1px rgba(0, 0, 0, 0.15);\n",
              "      filter: drop-shadow(0px 1px 2px rgba(0, 0, 0, 0.3));\n",
              "      fill: #FFFFFF;\n",
              "    }\n",
              "  </style>\n",
              "\n",
              "    <script>\n",
              "      const buttonEl =\n",
              "        document.querySelector('#df-acd6bcd5-409b-4c76-9c78-f49a915d2c88 button.colab-df-convert');\n",
              "      buttonEl.style.display =\n",
              "        google.colab.kernel.accessAllowed ? 'block' : 'none';\n",
              "\n",
              "      async function convertToInteractive(key) {\n",
              "        const element = document.querySelector('#df-acd6bcd5-409b-4c76-9c78-f49a915d2c88');\n",
              "        const dataTable =\n",
              "          await google.colab.kernel.invokeFunction('convertToInteractive',\n",
              "                                                    [key], {});\n",
              "        if (!dataTable) return;\n",
              "\n",
              "        const docLinkHtml = 'Like what you see? Visit the ' +\n",
              "          '<a target=\"_blank\" href=https://colab.research.google.com/notebooks/data_table.ipynb>data table notebook</a>'\n",
              "          + ' to learn more about interactive tables.';\n",
              "        element.innerHTML = '';\n",
              "        dataTable['output_type'] = 'display_data';\n",
              "        await google.colab.output.renderOutput(dataTable, element);\n",
              "        const docLink = document.createElement('div');\n",
              "        docLink.innerHTML = docLinkHtml;\n",
              "        element.appendChild(docLink);\n",
              "      }\n",
              "    </script>\n",
              "  </div>\n",
              "\n",
              "\n",
              "<div id=\"df-a8181b34-6015-4bf3-84ed-00a309ffc826\">\n",
              "  <button class=\"colab-df-quickchart\" onclick=\"quickchart('df-a8181b34-6015-4bf3-84ed-00a309ffc826')\"\n",
              "            title=\"Suggest charts\"\n",
              "            style=\"display:none;\">\n",
              "\n",
              "<svg xmlns=\"http://www.w3.org/2000/svg\" height=\"24px\"viewBox=\"0 0 24 24\"\n",
              "     width=\"24px\">\n",
              "    <g>\n",
              "        <path d=\"M19 3H5c-1.1 0-2 .9-2 2v14c0 1.1.9 2 2 2h14c1.1 0 2-.9 2-2V5c0-1.1-.9-2-2-2zM9 17H7v-7h2v7zm4 0h-2V7h2v10zm4 0h-2v-4h2v4z\"/>\n",
              "    </g>\n",
              "</svg>\n",
              "  </button>\n",
              "\n",
              "<style>\n",
              "  .colab-df-quickchart {\n",
              "      --bg-color: #E8F0FE;\n",
              "      --fill-color: #1967D2;\n",
              "      --hover-bg-color: #E2EBFA;\n",
              "      --hover-fill-color: #174EA6;\n",
              "      --disabled-fill-color: #AAA;\n",
              "      --disabled-bg-color: #DDD;\n",
              "  }\n",
              "\n",
              "  [theme=dark] .colab-df-quickchart {\n",
              "      --bg-color: #3B4455;\n",
              "      --fill-color: #D2E3FC;\n",
              "      --hover-bg-color: #434B5C;\n",
              "      --hover-fill-color: #FFFFFF;\n",
              "      --disabled-bg-color: #3B4455;\n",
              "      --disabled-fill-color: #666;\n",
              "  }\n",
              "\n",
              "  .colab-df-quickchart {\n",
              "    background-color: var(--bg-color);\n",
              "    border: none;\n",
              "    border-radius: 50%;\n",
              "    cursor: pointer;\n",
              "    display: none;\n",
              "    fill: var(--fill-color);\n",
              "    height: 32px;\n",
              "    padding: 0;\n",
              "    width: 32px;\n",
              "  }\n",
              "\n",
              "  .colab-df-quickchart:hover {\n",
              "    background-color: var(--hover-bg-color);\n",
              "    box-shadow: 0 1px 2px rgba(60, 64, 67, 0.3), 0 1px 3px 1px rgba(60, 64, 67, 0.15);\n",
              "    fill: var(--button-hover-fill-color);\n",
              "  }\n",
              "\n",
              "  .colab-df-quickchart-complete:disabled,\n",
              "  .colab-df-quickchart-complete:disabled:hover {\n",
              "    background-color: var(--disabled-bg-color);\n",
              "    fill: var(--disabled-fill-color);\n",
              "    box-shadow: none;\n",
              "  }\n",
              "\n",
              "  .colab-df-spinner {\n",
              "    border: 2px solid var(--fill-color);\n",
              "    border-color: transparent;\n",
              "    border-bottom-color: var(--fill-color);\n",
              "    animation:\n",
              "      spin 1s steps(1) infinite;\n",
              "  }\n",
              "\n",
              "  @keyframes spin {\n",
              "    0% {\n",
              "      border-color: transparent;\n",
              "      border-bottom-color: var(--fill-color);\n",
              "      border-left-color: var(--fill-color);\n",
              "    }\n",
              "    20% {\n",
              "      border-color: transparent;\n",
              "      border-left-color: var(--fill-color);\n",
              "      border-top-color: var(--fill-color);\n",
              "    }\n",
              "    30% {\n",
              "      border-color: transparent;\n",
              "      border-left-color: var(--fill-color);\n",
              "      border-top-color: var(--fill-color);\n",
              "      border-right-color: var(--fill-color);\n",
              "    }\n",
              "    40% {\n",
              "      border-color: transparent;\n",
              "      border-right-color: var(--fill-color);\n",
              "      border-top-color: var(--fill-color);\n",
              "    }\n",
              "    60% {\n",
              "      border-color: transparent;\n",
              "      border-right-color: var(--fill-color);\n",
              "    }\n",
              "    80% {\n",
              "      border-color: transparent;\n",
              "      border-right-color: var(--fill-color);\n",
              "      border-bottom-color: var(--fill-color);\n",
              "    }\n",
              "    90% {\n",
              "      border-color: transparent;\n",
              "      border-bottom-color: var(--fill-color);\n",
              "    }\n",
              "  }\n",
              "</style>\n",
              "\n",
              "  <script>\n",
              "    async function quickchart(key) {\n",
              "      const quickchartButtonEl =\n",
              "        document.querySelector('#' + key + ' button');\n",
              "      quickchartButtonEl.disabled = true;  // To prevent multiple clicks.\n",
              "      quickchartButtonEl.classList.add('colab-df-spinner');\n",
              "      try {\n",
              "        const charts = await google.colab.kernel.invokeFunction(\n",
              "            'suggestCharts', [key], {});\n",
              "      } catch (error) {\n",
              "        console.error('Error during call to suggestCharts:', error);\n",
              "      }\n",
              "      quickchartButtonEl.classList.remove('colab-df-spinner');\n",
              "      quickchartButtonEl.classList.add('colab-df-quickchart-complete');\n",
              "    }\n",
              "    (() => {\n",
              "      let quickchartButtonEl =\n",
              "        document.querySelector('#df-a8181b34-6015-4bf3-84ed-00a309ffc826 button');\n",
              "      quickchartButtonEl.style.display =\n",
              "        google.colab.kernel.accessAllowed ? 'block' : 'none';\n",
              "    })();\n",
              "  </script>\n",
              "</div>\n",
              "\n",
              "    </div>\n",
              "  </div>\n"
            ],
            "application/vnd.google.colaboratory.intrinsic+json": {
              "type": "dataframe",
              "variable_name": "df"
            }
          },
          "metadata": {},
          "execution_count": 69
        }
      ]
    },
    {
      "cell_type": "code",
      "source": [
        "category_city = df.groupby(['City'])['Category'].sum()\n",
        "category_city"
      ],
      "metadata": {
        "colab": {
          "base_uri": "https://localhost:8080/"
        },
        "id": "gY4GweNIoABA",
        "outputId": "a6f2cbb4-3211-4665-b532-a2095018a69a"
      },
      "execution_count": 70,
      "outputs": [
        {
          "output_type": "execute_result",
          "data": {
            "text/plain": [
              "City\n",
              "Aberdeen        1\n",
              "Abilene         1\n",
              "Akron          24\n",
              "Albuquerque    19\n",
              "Alexandria     16\n",
              "               ..\n",
              "Woonsocket      3\n",
              "Yonkers        18\n",
              "York            4\n",
              "Yucaipa         1\n",
              "Yuma            6\n",
              "Name: Category, Length: 531, dtype: int64"
            ]
          },
          "metadata": {},
          "execution_count": 70
        }
      ]
    },
    {
      "cell_type": "code",
      "source": [
        "import matplotlib.pyplot as plt\n",
        "df.groupby([\"Region\", \"Category\"])['Sales'].sum().unstack().plot(kind='bar')\n",
        "plt.xlabel('Region')\n",
        "plt.ylabel('Sales')\n",
        "plt.title('Sales per Region')\n",
        "plt.show"
      ],
      "metadata": {
        "colab": {
          "base_uri": "https://localhost:8080/",
          "height": 0
        },
        "id": "VNY905rEn_9q",
        "outputId": "4f220e2f-2f95-43c7-c559-b7b137978dd9"
      },
      "execution_count": 71,
      "outputs": [
        {
          "output_type": "execute_result",
          "data": {
            "text/plain": [
              "<function matplotlib.pyplot.show(close=None, block=None)>"
            ],
            "text/html": [
              "<div style=\"max-width:800px; border: 1px solid var(--colab-border-color);\"><style>\n",
              "      pre.function-repr-contents {\n",
              "        overflow-x: auto;\n",
              "        padding: 8px 12px;\n",
              "        max-height: 500px;\n",
              "      }\n",
              "\n",
              "      pre.function-repr-contents.function-repr-contents-collapsed {\n",
              "        cursor: pointer;\n",
              "        max-height: 100px;\n",
              "      }\n",
              "    </style>\n",
              "    <pre style=\"white-space: initial; background:\n",
              "         var(--colab-secondary-surface-color); padding: 8px 12px;\n",
              "         border-bottom: 1px solid var(--colab-border-color);\"><b>matplotlib.pyplot.show</b><br/>def show(*args, **kwargs)</pre><pre class=\"function-repr-contents function-repr-contents-collapsed\" style=\"\"><a class=\"filepath\" style=\"display:none\" href=\"#\">/usr/local/lib/python3.10/dist-packages/matplotlib/pyplot.py</a>Display all open figures.\n",
              "\n",
              "Parameters\n",
              "----------\n",
              "block : bool, optional\n",
              "    Whether to wait for all figures to be closed before returning.\n",
              "\n",
              "    If `True` block and run the GUI main loop until all figure windows\n",
              "    are closed.\n",
              "\n",
              "    If `False` ensure that all figure windows are displayed and return\n",
              "    immediately.  In this case, you are responsible for ensuring\n",
              "    that the event loop is running to have responsive figures.\n",
              "\n",
              "    Defaults to True in non-interactive mode and to False in interactive\n",
              "    mode (see `.pyplot.isinteractive`).\n",
              "\n",
              "See Also\n",
              "--------\n",
              "ion : Enable interactive mode, which shows / updates the figure after\n",
              "      every plotting command, so that calling ``show()`` is not necessary.\n",
              "ioff : Disable interactive mode.\n",
              "savefig : Save the figure to an image file instead of showing it on screen.\n",
              "\n",
              "Notes\n",
              "-----\n",
              "**Saving figures to file and showing a window at the same time**\n",
              "\n",
              "If you want an image file as well as a user interface window, use\n",
              "`.pyplot.savefig` before `.pyplot.show`. At the end of (a blocking)\n",
              "``show()`` the figure is closed and thus unregistered from pyplot. Calling\n",
              "`.pyplot.savefig` afterwards would save a new and thus empty figure. This\n",
              "limitation of command order does not apply if the show is non-blocking or\n",
              "if you keep a reference to the figure and use `.Figure.savefig`.\n",
              "\n",
              "**Auto-show in jupyter notebooks**\n",
              "\n",
              "The jupyter backends (activated via ``%matplotlib inline``,\n",
              "``%matplotlib notebook``, or ``%matplotlib widget``), call ``show()`` at\n",
              "the end of every cell by default. Thus, you usually don&#x27;t have to call it\n",
              "explicitly there.</pre>\n",
              "      <script>\n",
              "      if (google.colab.kernel.accessAllowed && google.colab.files && google.colab.files.view) {\n",
              "        for (const element of document.querySelectorAll('.filepath')) {\n",
              "          element.style.display = 'block'\n",
              "          element.onclick = (event) => {\n",
              "            event.preventDefault();\n",
              "            event.stopPropagation();\n",
              "            google.colab.files.view(element.textContent, 401);\n",
              "          };\n",
              "        }\n",
              "      }\n",
              "      for (const element of document.querySelectorAll('.function-repr-contents')) {\n",
              "        element.onclick = (event) => {\n",
              "          event.preventDefault();\n",
              "          event.stopPropagation();\n",
              "          element.classList.toggle('function-repr-contents-collapsed');\n",
              "        };\n",
              "      }\n",
              "      </script>\n",
              "      </div>"
            ]
          },
          "metadata": {},
          "execution_count": 71
        },
        {
          "output_type": "display_data",
          "data": {
            "text/plain": [
              "<Figure size 640x480 with 1 Axes>"
            ],
            "image/png": "[encoded data removed]"
          },
          "metadata": {}
        }
      ]
    },
    {
      "cell_type": "code",
      "source": [
        "df[\"order_year\"] = df['Order Date'].dt.year\n",
        "df['order_year']"
      ],
      "metadata": {
        "colab": {
          "base_uri": "https://localhost:8080/"
        },
        "id": "BGC5j1J0lBBI",
        "outputId": "fa9d5b86-4fe0-4e27-f8bf-9281fcb5ca1f"
      },
      "execution_count": 72,
      "outputs": [
        {
          "output_type": "execute_result",
          "data": {
            "text/plain": [
              "0       2016\n",
              "1       2016\n",
              "2       2016\n",
              "3       2015\n",
              "4       2015\n",
              "        ... \n",
              "9989    2014\n",
              "9990    2017\n",
              "9991    2017\n",
              "9992    2017\n",
              "9993    2017\n",
              "Name: order_year, Length: 9994, dtype: int32"
            ]
          },
          "metadata": {},
          "execution_count": 72
        }
      ]
    },
    {
      "cell_type": "code",
      "source": [
        "df[\"order_month\"]=df['Order Date'].dt.month\n",
        "df['order_month']"
      ],
      "metadata": {
        "colab": {
          "base_uri": "https://localhost:8080/"
        },
        "id": "a4RGTrocmubh",
        "outputId": "f43712d6-3224-46c8-91f0-cef7d2c1e87b"
      },
      "execution_count": 73,
      "outputs": [
        {
          "output_type": "execute_result",
          "data": {
            "text/plain": [
              "0       11\n",
              "1       11\n",
              "2        6\n",
              "3       10\n",
              "4       10\n",
              "        ..\n",
              "9989     1\n",
              "9990     2\n",
              "9991     2\n",
              "9992     2\n",
              "9993     5\n",
              "Name: order_month, Length: 9994, dtype: int32"
            ]
          },
          "metadata": {},
          "execution_count": 73
        }
      ]
    },
    {
      "cell_type": "code",
      "source": [
        "df[\"order_day\"]=df['Order Date'].dt.day\n",
        "df['order_day']"
      ],
      "metadata": {
        "colab": {
          "base_uri": "https://localhost:8080/"
        },
        "id": "rv3EDbRbmuR4",
        "outputId": "1001f6ce-eb95-4f5f-cc52-bd758fc60048"
      },
      "execution_count": 74,
      "outputs": [
        {
          "output_type": "execute_result",
          "data": {
            "text/plain": [
              "0        8\n",
              "1        8\n",
              "2       12\n",
              "3       11\n",
              "4       11\n",
              "        ..\n",
              "9989    21\n",
              "9990    26\n",
              "9991    26\n",
              "9992    26\n",
              "9993     4\n",
              "Name: order_day, Length: 9994, dtype: int32"
            ]
          },
          "metadata": {},
          "execution_count": 74
        }
      ]
    },
    {
      "cell_type": "code",
      "source": [
        "# Arrange the Sales according to the year\n",
        "final_order_Sales_By_year = df.groupby('order_year')['Sales'].sum()\n",
        "final_order_Sales_By_year"
      ],
      "metadata": {
        "colab": {
          "base_uri": "https://localhost:8080/"
        },
        "id": "KQYbe2j0nOnJ",
        "outputId": "36da480c-e3c7-444a-b38f-4a6af11f24b2"
      },
      "execution_count": 75,
      "outputs": [
        {
          "output_type": "execute_result",
          "data": {
            "text/plain": [
              "order_year\n",
              "2014    284350.2301\n",
              "2015    303821.9016\n",
              "2016    362143.7773\n",
              "2017    451653.4564\n",
              "Name: Sales, dtype: float64"
            ]
          },
          "metadata": {},
          "execution_count": 75
        }
      ]
    },
    {
      "cell_type": "code",
      "source": [
        "import matplotlib.pyplot as plt\n",
        "sns.barplot(x=final_order_Sales_By_year.index, y=final_order_Sales_By_year.values, palette='hls')\n",
        "plt.xlabel('Year')\n",
        "plt.ylabel('Sales')\n",
        "plt.title('Total Sales per Year')\n",
        "plt.show()"
      ],
      "metadata": {
        "colab": {
          "base_uri": "https://localhost:8080/",
          "height": 0
        },
        "id": "TyS6w8NsnOhl",
        "outputId": "10bf2028-1712-4c17-c8a2-f3719ba4638f"
      },
      "execution_count": 76,
      "outputs": [
        {
          "output_type": "stream",
          "name": "stderr",
          "text": [
            "<ipython-input-76-a8584d24b4f9>:2: FutureWarning: \n",
            "\n",
            "Passing `palette` without assigning `hue` is deprecated and will be removed in v0.14.0. Assign the `x` variable to `hue` and set `legend=False` for the same effect.\n",
            "\n",
            "  sns.barplot(x=final_order_Sales_By_year.index, y=final_order_Sales_By_year.values, palette='hls')\n"
          ]
        },
        {
          "output_type": "display_data",
          "data": {
            "text/plain": [
              "<Figure size 640x480 with 1 Axes>"
            ],
            "image/png": "[encoded data removed]"
          },
          "metadata": {}
        }
      ]
    },
    {
      "cell_type": "code",
      "source": [
        "import matplotlib.pyplot as plt\n",
        "plt.figure(figsize=(15,6))\n",
        "plt.plot(final_order_Sales_By_year.index,final_order_Sales_By_year.values)\n",
        "plt.xlabel('Year')\n",
        "plt.ylabel('Sales')\n",
        "plt.title('Total Sales per Year')\n",
        "plt.show()"
      ],
      "metadata": {
        "colab": {
          "base_uri": "https://localhost:8080/",
          "height": 0
        },
        "id": "1rKuXu-4nvzm",
        "outputId": "9ade5603-460b-4b60-ed78-499dd45d0ef5"
      },
      "execution_count": 77,
      "outputs": [
        {
          "output_type": "display_data",
          "data": {
            "text/plain": [
              "<Figure size 1500x600 with 1 Axes>"
            ],
            "image/png": "[encoded data removed]"
          },
          "metadata": {}
        }
      ]
    },
    {
      "cell_type": "code",
      "execution_count": 78,
      "metadata": {
        "id": "B9HO39Tvs_86"
      },
      "outputs": [],
      "source": [
        "df.to_csv('preprocessed_WalmartSales.csv', index=False)"
      ]
    },
    {
      "cell_type": "markdown",
      "source": [
        "# **Modeling**"
      ],
      "metadata": {
        "id": "rZyUjHVDt7Ix"
      }
    },
    {
      "cell_type": "code",
      "source": [
        "df"
      ],
      "metadata": {
        "colab": {
          "base_uri": "https://localhost:8080/",
          "height": 1000
        },
        "id": "MBf3Jt0byvwU",
        "outputId": "f7ffd4a7-ba2a-4439-fbae-599aa87e7d32"
      },
      "execution_count": 79,
      "outputs": [
        {
          "output_type": "execute_result",
          "data": {
            "text/plain": [
              "      Row ID        Order ID Order Date  Ship Date  Ship Mode Customer ID  \\\n",
              "0          1  CA-2016-152156 2016-11-08 2016-11-11          2    CG-12520   \n",
              "1          2  CA-2016-152156 2016-11-08 2016-11-11          2    CG-12520   \n",
              "2          3  CA-2016-138688 2016-06-12 2016-06-16          2    DV-13045   \n",
              "3          4  US-2015-108966 2015-10-11 2015-10-18          3    SO-20335   \n",
              "4          5  US-2015-108966 2015-10-11 2015-10-18          3    SO-20335   \n",
              "...      ...             ...        ...        ...        ...         ...   \n",
              "9989    9990  CA-2014-110422 2014-01-21 2014-01-23          2    TB-21400   \n",
              "9990    9991  CA-2017-121258 2017-02-26 2017-03-03          3    DB-13060   \n",
              "9991    9992  CA-2017-121258 2017-02-26 2017-03-03          3    DB-13060   \n",
              "9992    9993  CA-2017-121258 2017-02-26 2017-03-03          3    DB-13060   \n",
              "9993    9994  CA-2017-119914 2017-05-04 2017-05-09          2    CC-12220   \n",
              "\n",
              "         Customer Name  Segment        Country             City  ... Category  \\\n",
              "0          Claire Gute        0  United States        Henderson  ...        0   \n",
              "1          Claire Gute        0  United States        Henderson  ...        0   \n",
              "2      Darrin Van Huff        1  United States      Los Angeles  ...        1   \n",
              "3       Sean O'Donnell        0  United States  Fort Lauderdale  ...        0   \n",
              "4       Sean O'Donnell        0  United States  Fort Lauderdale  ...        1   \n",
              "...                ...      ...            ...              ...  ...      ...   \n",
              "9989  Tom Boeckenhauer        0  United States            Miami  ...        0   \n",
              "9990       Dave Brooks        0  United States       Costa Mesa  ...        0   \n",
              "9991       Dave Brooks        0  United States       Costa Mesa  ...        2   \n",
              "9992       Dave Brooks        0  United States       Costa Mesa  ...        1   \n",
              "9993      Chris Cortes        0  United States      Westminster  ...        1   \n",
              "\n",
              "      Sub-Category                                       Product Name  \\\n",
              "0                4                  Bush Somerset Collection Bookcase   \n",
              "1                5  Hon Deluxe Fabric Upholstered Stacking Chairs,...   \n",
              "2               10  Self-Adhesive Address Labels for Typewriters b...   \n",
              "3               16      Bretford CR4500 Series Slim Rectangular Table   \n",
              "4               14                     Eldon Fold 'N Roll Cart System   \n",
              "...            ...                                                ...   \n",
              "9989             9                             Ultra Door Pull Handle   \n",
              "9990             9  Tenex B1-RE Series Chair Mats for Low Pile Car...   \n",
              "9991            13                              Aastra 57i VoIP phone   \n",
              "9992            12  It's Hot Message Books with Stickers, 2 3/4\" x 5\"   \n",
              "9993             1  Acco 7-Outlet Masterpiece Power Center, Wihtou...   \n",
              "\n",
              "        Sales  Quantity  Discount    Profit  order_year  order_month  \\\n",
              "0     261.960         2      0.00   41.9136        2016           11   \n",
              "1     498.930         3      0.00  219.5820        2016           11   \n",
              "2      14.620         2      0.00    6.8714        2016            6   \n",
              "3     498.930         5      0.45 -383.0310        2015           10   \n",
              "4      22.368         2      0.20    2.5164        2015           10   \n",
              "...       ...       ...       ...       ...         ...          ...   \n",
              "9989   25.248         3      0.20    4.1028        2014            1   \n",
              "9990   91.960         2      0.00   15.6332        2017            2   \n",
              "9991  258.576         2      0.20   19.3932        2017            2   \n",
              "9992   29.600         4      0.00   13.3200        2017            2   \n",
              "9993  243.160         2      0.00   72.9480        2017            5   \n",
              "\n",
              "      order_day  \n",
              "0             8  \n",
              "1             8  \n",
              "2            12  \n",
              "3            11  \n",
              "4            11  \n",
              "...         ...  \n",
              "9989         21  \n",
              "9990         26  \n",
              "9991         26  \n",
              "9992         26  \n",
              "9993          4  \n",
              "\n",
              "[9994 rows x 24 columns]"
            ],
            "text/html": [
              "\n",
              "  <div id=\"df-290aecc3-3218-42c0-b927-e3f674f8495b\" class=\"colab-df-container\">\n",
              "    <div>\n",
              "<style scoped>\n",
              "    .dataframe tbody tr th:only-of-type {\n",
              "        vertical-align: middle;\n",
              "    }\n",
              "\n",
              "    .dataframe tbody tr th {\n",
              "        vertical-align: top;\n",
              "    }\n",
              "\n",
              "    .dataframe thead th {\n",
              "        text-align: right;\n",
              "    }\n",
              "</style>\n",
              "<table border=\"1\" class=\"dataframe\">\n",
              "  <thead>\n",
              "    <tr style=\"text-align: right;\">\n",
              "      <th></th>\n",
              "      <th>Row ID</th>\n",
              "      <th>Order ID</th>\n",
              "      <th>Order Date</th>\n",
              "      <th>Ship Date</th>\n",
              "      <th>Ship Mode</th>\n",
              "      <th>Customer ID</th>\n",
              "      <th>Customer Name</th>\n",
              "      <th>Segment</th>\n",
              "      <th>Country</th>\n",
              "      <th>City</th>\n",
              "      <th>...</th>\n",
              "      <th>Category</th>\n",
              "      <th>Sub-Category</th>\n",
              "      <th>Product Name</th>\n",
              "      <th>Sales</th>\n",
              "      <th>Quantity</th>\n",
              "      <th>Discount</th>\n",
              "      <th>Profit</th>\n",
              "      <th>order_year</th>\n",
              "      <th>order_month</th>\n",
              "      <th>order_day</th>\n",
              "    </tr>\n",
              "  </thead>\n",
              "  <tbody>\n",
              "    <tr>\n",
              "      <th>0</th>\n",
              "      <td>1</td>\n",
              "      <td>CA-2016-152156</td>\n",
              "      <td>2016-11-08</td>\n",
              "      <td>2016-11-11</td>\n",
              "      <td>2</td>\n",
              "      <td>CG-12520</td>\n",
              "      <td>Claire Gute</td>\n",
              "      <td>0</td>\n",
              "      <td>United States</td>\n",
              "      <td>Henderson</td>\n",
              "      <td>...</td>\n",
              "      <td>0</td>\n",
              "      <td>4</td>\n",
              "      <td>Bush Somerset Collection Bookcase</td>\n",
              "      <td>261.960</td>\n",
              "      <td>2</td>\n",
              "      <td>0.00</td>\n",
              "      <td>41.9136</td>\n",
              "      <td>2016</td>\n",
              "      <td>11</td>\n",
              "      <td>8</td>\n",
              "    </tr>\n",
              "    <tr>\n",
              "      <th>1</th>\n",
              "      <td>2</td>\n",
              "      <td>CA-2016-152156</td>\n",
              "      <td>2016-11-08</td>\n",
              "      <td>2016-11-11</td>\n",
              "      <td>2</td>\n",
              "      <td>CG-12520</td>\n",
              "      <td>Claire Gute</td>\n",
              "      <td>0</td>\n",
              "      <td>United States</td>\n",
              "      <td>Henderson</td>\n",
              "      <td>...</td>\n",
              "      <td>0</td>\n",
              "      <td>5</td>\n",
              "      <td>Hon Deluxe Fabric Upholstered Stacking Chairs,...</td>\n",
              "      <td>498.930</td>\n",
              "      <td>3</td>\n",
              "      <td>0.00</td>\n",
              "      <td>219.5820</td>\n",
              "      <td>2016</td>\n",
              "      <td>11</td>\n",
              "      <td>8</td>\n",
              "    </tr>\n",
              "    <tr>\n",
              "      <th>2</th>\n",
              "      <td>3</td>\n",
              "      <td>CA-2016-138688</td>\n",
              "      <td>2016-06-12</td>\n",
              "      <td>2016-06-16</td>\n",
              "      <td>2</td>\n",
              "      <td>DV-13045</td>\n",
              "      <td>Darrin Van Huff</td>\n",
              "      <td>1</td>\n",
              "      <td>United States</td>\n",
              "      <td>Los Angeles</td>\n",
              "      <td>...</td>\n",
              "      <td>1</td>\n",
              "      <td>10</td>\n",
              "      <td>Self-Adhesive Address Labels for Typewriters b...</td>\n",
              "      <td>14.620</td>\n",
              "      <td>2</td>\n",
              "      <td>0.00</td>\n",
              "      <td>6.8714</td>\n",
              "      <td>2016</td>\n",
              "      <td>6</td>\n",
              "      <td>12</td>\n",
              "    </tr>\n",
              "    <tr>\n",
              "      <th>3</th>\n",
              "      <td>4</td>\n",
              "      <td>US-2015-108966</td>\n",
              "      <td>2015-10-11</td>\n",
              "      <td>2015-10-18</td>\n",
              "      <td>3</td>\n",
              "      <td>SO-20335</td>\n",
              "      <td>Sean O'Donnell</td>\n",
              "      <td>0</td>\n",
              "      <td>United States</td>\n",
              "      <td>Fort Lauderdale</td>\n",
              "      <td>...</td>\n",
              "      <td>0</td>\n",
              "      <td>16</td>\n",
              "      <td>Bretford CR4500 Series Slim Rectangular Table</td>\n",
              "      <td>498.930</td>\n",
              "      <td>5</td>\n",
              "      <td>0.45</td>\n",
              "      <td>-383.0310</td>\n",
              "      <td>2015</td>\n",
              "      <td>10</td>\n",
              "      <td>11</td>\n",
              "    </tr>\n",
              "    <tr>\n",
              "      <th>4</th>\n",
              "      <td>5</td>\n",
              "      <td>US-2015-108966</td>\n",
              "      <td>2015-10-11</td>\n",
              "      <td>2015-10-18</td>\n",
              "      <td>3</td>\n",
              "      <td>SO-20335</td>\n",
              "      <td>Sean O'Donnell</td>\n",
              "      <td>0</td>\n",
              "      <td>United States</td>\n",
              "      <td>Fort Lauderdale</td>\n",
              "      <td>...</td>\n",
              "      <td>1</td>\n",
              "      <td>14</td>\n",
              "      <td>Eldon Fold 'N Roll Cart System</td>\n",
              "      <td>22.368</td>\n",
              "      <td>2</td>\n",
              "      <td>0.20</td>\n",
              "      <td>2.5164</td>\n",
              "      <td>2015</td>\n",
              "      <td>10</td>\n",
              "      <td>11</td>\n",
              "    </tr>\n",
              "    <tr>\n",
              "      <th>...</th>\n",
              "      <td>...</td>\n",
              "      <td>...</td>\n",
              "      <td>...</td>\n",
              "      <td>...</td>\n",
              "      <td>...</td>\n",
              "      <td>...</td>\n",
              "      <td>...</td>\n",
              "      <td>...</td>\n",
              "      <td>...</td>\n",
              "      <td>...</td>\n",
              "      <td>...</td>\n",
              "      <td>...</td>\n",
              "      <td>...</td>\n",
              "      <td>...</td>\n",
              "      <td>...</td>\n",
              "      <td>...</td>\n",
              "      <td>...</td>\n",
              "      <td>...</td>\n",
              "      <td>...</td>\n",
              "      <td>...</td>\n",
              "      <td>...</td>\n",
              "    </tr>\n",
              "    <tr>\n",
              "      <th>9989</th>\n",
              "      <td>9990</td>\n",
              "      <td>CA-2014-110422</td>\n",
              "      <td>2014-01-21</td>\n",
              "      <td>2014-01-23</td>\n",
              "      <td>2</td>\n",
              "      <td>TB-21400</td>\n",
              "      <td>Tom Boeckenhauer</td>\n",
              "      <td>0</td>\n",
              "      <td>United States</td>\n",
              "      <td>Miami</td>\n",
              "      <td>...</td>\n",
              "      <td>0</td>\n",
              "      <td>9</td>\n",
              "      <td>Ultra Door Pull Handle</td>\n",
              "      <td>25.248</td>\n",
              "      <td>3</td>\n",
              "      <td>0.20</td>\n",
              "      <td>4.1028</td>\n",
              "      <td>2014</td>\n",
              "      <td>1</td>\n",
              "      <td>21</td>\n",
              "    </tr>\n",
              "    <tr>\n",
              "      <th>9990</th>\n",
              "      <td>9991</td>\n",
              "      <td>CA-2017-121258</td>\n",
              "      <td>2017-02-26</td>\n",
              "      <td>2017-03-03</td>\n",
              "      <td>3</td>\n",
              "      <td>DB-13060</td>\n",
              "      <td>Dave Brooks</td>\n",
              "      <td>0</td>\n",
              "      <td>United States</td>\n",
              "      <td>Costa Mesa</td>\n",
              "      <td>...</td>\n",
              "      <td>0</td>\n",
              "      <td>9</td>\n",
              "      <td>Tenex B1-RE Series Chair Mats for Low Pile Car...</td>\n",
              "      <td>91.960</td>\n",
              "      <td>2</td>\n",
              "      <td>0.00</td>\n",
              "      <td>15.6332</td>\n",
              "      <td>2017</td>\n",
              "      <td>2</td>\n",
              "      <td>26</td>\n",
              "    </tr>\n",
              "    <tr>\n",
              "      <th>9991</th>\n",
              "      <td>9992</td>\n",
              "      <td>CA-2017-121258</td>\n",
              "      <td>2017-02-26</td>\n",
              "      <td>2017-03-03</td>\n",
              "      <td>3</td>\n",
              "      <td>DB-13060</td>\n",
              "      <td>Dave Brooks</td>\n",
              "      <td>0</td>\n",
              "      <td>United States</td>\n",
              "      <td>Costa Mesa</td>\n",
              "      <td>...</td>\n",
              "      <td>2</td>\n",
              "      <td>13</td>\n",
              "      <td>Aastra 57i VoIP phone</td>\n",
              "      <td>258.576</td>\n",
              "      <td>2</td>\n",
              "      <td>0.20</td>\n",
              "      <td>19.3932</td>\n",
              "      <td>2017</td>\n",
              "      <td>2</td>\n",
              "      <td>26</td>\n",
              "    </tr>\n",
              "    <tr>\n",
              "      <th>9992</th>\n",
              "      <td>9993</td>\n",
              "      <td>CA-2017-121258</td>\n",
              "      <td>2017-02-26</td>\n",
              "      <td>2017-03-03</td>\n",
              "      <td>3</td>\n",
              "      <td>DB-13060</td>\n",
              "      <td>Dave Brooks</td>\n",
              "      <td>0</td>\n",
              "      <td>United States</td>\n",
              "      <td>Costa Mesa</td>\n",
              "      <td>...</td>\n",
              "      <td>1</td>\n",
              "      <td>12</td>\n",
              "      <td>It's Hot Message Books with Stickers, 2 3/4\" x 5\"</td>\n",
              "      <td>29.600</td>\n",
              "      <td>4</td>\n",
              "      <td>0.00</td>\n",
              "      <td>13.3200</td>\n",
              "      <td>2017</td>\n",
              "      <td>2</td>\n",
              "      <td>26</td>\n",
              "    </tr>\n",
              "    <tr>\n",
              "      <th>9993</th>\n",
              "      <td>9994</td>\n",
              "      <td>CA-2017-119914</td>\n",
              "      <td>2017-05-04</td>\n",
              "      <td>2017-05-09</td>\n",
              "      <td>2</td>\n",
              "      <td>CC-12220</td>\n",
              "      <td>Chris Cortes</td>\n",
              "      <td>0</td>\n",
              "      <td>United States</td>\n",
              "      <td>Westminster</td>\n",
              "      <td>...</td>\n",
              "      <td>1</td>\n",
              "      <td>1</td>\n",
              "      <td>Acco 7-Outlet Masterpiece Power Center, Wihtou...</td>\n",
              "      <td>243.160</td>\n",
              "      <td>2</td>\n",
              "      <td>0.00</td>\n",
              "      <td>72.9480</td>\n",
              "      <td>2017</td>\n",
              "      <td>5</td>\n",
              "      <td>4</td>\n",
              "    </tr>\n",
              "  </tbody>\n",
              "</table>\n",
              "<p>9994 rows × 24 columns</p>\n",
              "</div>\n",
              "    <div class=\"colab-df-buttons\">\n",
              "\n",
              "  <div class=\"colab-df-container\">\n",
              "    <button class=\"colab-df-convert\" onclick=\"convertToInteractive('df-290aecc3-3218-42c0-b927-e3f674f8495b')\"\n",
              "            title=\"Convert this dataframe to an interactive table.\"\n",
              "            style=\"display:none;\">\n",
              "\n",
              "  <svg xmlns=\"http://www.w3.org/2000/svg\" height=\"24px\" viewBox=\"0 -960 960 960\">\n",
              "    <path d=\"M120-120v-720h720v720H120Zm60-500h600v-160H180v160Zm220 220h160v-160H400v160Zm0 220h160v-160H400v160ZM180-400h160v-160H180v160Zm440 0h160v-160H620v160ZM180-180h160v-160H180v160Zm440 0h160v-160H620v160Z\"/>\n",
              "  </svg>\n",
              "    </button>\n",
              "\n",
              "  <style>\n",
              "    .colab-df-container {\n",
              "      display:flex;\n",
              "      gap: 12px;\n",
              "    }\n",
              "\n",
              "    .colab-df-convert {\n",
              "      background-color: #E8F0FE;\n",
              "      border: none;\n",
              "      border-radius: 50%;\n",
              "      cursor: pointer;\n",
              "      display: none;\n",
              "      fill: #1967D2;\n",
              "      height: 32px;\n",
              "      padding: 0 0 0 0;\n",
              "      width: 32px;\n",
              "    }\n",
              "\n",
              "    .colab-df-convert:hover {\n",
              "      background-color: #E2EBFA;\n",
              "      box-shadow: 0px 1px 2px rgba(60, 64, 67, 0.3), 0px 1px 3px 1px rgba(60, 64, 67, 0.15);\n",
              "      fill: #174EA6;\n",
              "    }\n",
              "\n",
              "    .colab-df-buttons div {\n",
              "      margin-bottom: 4px;\n",
              "    }\n",
              "\n",
              "    [theme=dark] .colab-df-convert {\n",
              "      background-color: #3B4455;\n",
              "      fill: #D2E3FC;\n",
              "    }\n",
              "\n",
              "    [theme=dark] .colab-df-convert:hover {\n",
              "      background-color: #434B5C;\n",
              "      box-shadow: 0px 1px 3px 1px rgba(0, 0, 0, 0.15);\n",
              "      filter: drop-shadow(0px 1px 2px rgba(0, 0, 0, 0.3));\n",
              "      fill: #FFFFFF;\n",
              "    }\n",
              "  </style>\n",
              "\n",
              "    <script>\n",
              "      const buttonEl =\n",
              "        document.querySelector('#df-290aecc3-3218-42c0-b927-e3f674f8495b button.colab-df-convert');\n",
              "      buttonEl.style.display =\n",
              "        google.colab.kernel.accessAllowed ? 'block' : 'none';\n",
              "\n",
              "      async function convertToInteractive(key) {\n",
              "        const element = document.querySelector('#df-290aecc3-3218-42c0-b927-e3f674f8495b');\n",
              "        const dataTable =\n",
              "          await google.colab.kernel.invokeFunction('convertToInteractive',\n",
              "                                                    [key], {});\n",
              "        if (!dataTable) return;\n",
              "\n",
              "        const docLinkHtml = 'Like what you see? Visit the ' +\n",
              "          '<a target=\"_blank\" href=https://colab.research.google.com/notebooks/data_table.ipynb>data table notebook</a>'\n",
              "          + ' to learn more about interactive tables.';\n",
              "        element.innerHTML = '';\n",
              "        dataTable['output_type'] = 'display_data';\n",
              "        await google.colab.output.renderOutput(dataTable, element);\n",
              "        const docLink = document.createElement('div');\n",
              "        docLink.innerHTML = docLinkHtml;\n",
              "        element.appendChild(docLink);\n",
              "      }\n",
              "    </script>\n",
              "  </div>\n",
              "\n",
              "\n",
              "<div id=\"df-78627f08-e865-478d-bd20-9a72e3b931fe\">\n",
              "  <button class=\"colab-df-quickchart\" onclick=\"quickchart('df-78627f08-e865-478d-bd20-9a72e3b931fe')\"\n",
              "            title=\"Suggest charts\"\n",
              "            style=\"display:none;\">\n",
              "\n",
              "<svg xmlns=\"http://www.w3.org/2000/svg\" height=\"24px\"viewBox=\"0 0 24 24\"\n",
              "     width=\"24px\">\n",
              "    <g>\n",
              "        <path d=\"M19 3H5c-1.1 0-2 .9-2 2v14c0 1.1.9 2 2 2h14c1.1 0 2-.9 2-2V5c0-1.1-.9-2-2-2zM9 17H7v-7h2v7zm4 0h-2V7h2v10zm4 0h-2v-4h2v4z\"/>\n",
              "    </g>\n",
              "</svg>\n",
              "  </button>\n",
              "\n",
              "<style>\n",
              "  .colab-df-quickchart {\n",
              "      --bg-color: #E8F0FE;\n",
              "      --fill-color: #1967D2;\n",
              "      --hover-bg-color: #E2EBFA;\n",
              "      --hover-fill-color: #174EA6;\n",
              "      --disabled-fill-color: #AAA;\n",
              "      --disabled-bg-color: #DDD;\n",
              "  }\n",
              "\n",
              "  [theme=dark] .colab-df-quickchart {\n",
              "      --bg-color: #3B4455;\n",
              "      --fill-color: #D2E3FC;\n",
              "      --hover-bg-color: #434B5C;\n",
              "      --hover-fill-color: #FFFFFF;\n",
              "      --disabled-bg-color: #3B4455;\n",
              "      --disabled-fill-color: #666;\n",
              "  }\n",
              "\n",
              "  .colab-df-quickchart {\n",
              "    background-color: var(--bg-color);\n",
              "    border: none;\n",
              "    border-radius: 50%;\n",
              "    cursor: pointer;\n",
              "    display: none;\n",
              "    fill: var(--fill-color);\n",
              "    height: 32px;\n",
              "    padding: 0;\n",
              "    width: 32px;\n",
              "  }\n",
              "\n",
              "  .colab-df-quickchart:hover {\n",
              "    background-color: var(--hover-bg-color);\n",
              "    box-shadow: 0 1px 2px rgba(60, 64, 67, 0.3), 0 1px 3px 1px rgba(60, 64, 67, 0.15);\n",
              "    fill: var(--button-hover-fill-color);\n",
              "  }\n",
              "\n",
              "  .colab-df-quickchart-complete:disabled,\n",
              "  .colab-df-quickchart-complete:disabled:hover {\n",
              "    background-color: var(--disabled-bg-color);\n",
              "    fill: var(--disabled-fill-color);\n",
              "    box-shadow: none;\n",
              "  }\n",
              "\n",
              "  .colab-df-spinner {\n",
              "    border: 2px solid var(--fill-color);\n",
              "    border-color: transparent;\n",
              "    border-bottom-color: var(--fill-color);\n",
              "    animation:\n",
              "      spin 1s steps(1) infinite;\n",
              "  }\n",
              "\n",
              "  @keyframes spin {\n",
              "    0% {\n",
              "      border-color: transparent;\n",
              "      border-bottom-color: var(--fill-color);\n",
              "      border-left-color: var(--fill-color);\n",
              "    }\n",
              "    20% {\n",
              "      border-color: transparent;\n",
              "      border-left-color: var(--fill-color);\n",
              "      border-top-color: var(--fill-color);\n",
              "    }\n",
              "    30% {\n",
              "      border-color: transparent;\n",
              "      border-left-color: var(--fill-color);\n",
              "      border-top-color: var(--fill-color);\n",
              "      border-right-color: var(--fill-color);\n",
              "    }\n",
              "    40% {\n",
              "      border-color: transparent;\n",
              "      border-right-color: var(--fill-color);\n",
              "      border-top-color: var(--fill-color);\n",
              "    }\n",
              "    60% {\n",
              "      border-color: transparent;\n",
              "      border-right-color: var(--fill-color);\n",
              "    }\n",
              "    80% {\n",
              "      border-color: transparent;\n",
              "      border-right-color: var(--fill-color);\n",
              "      border-bottom-color: var(--fill-color);\n",
              "    }\n",
              "    90% {\n",
              "      border-color: transparent;\n",
              "      border-bottom-color: var(--fill-color);\n",
              "    }\n",
              "  }\n",
              "</style>\n",
              "\n",
              "  <script>\n",
              "    async function quickchart(key) {\n",
              "      const quickchartButtonEl =\n",
              "        document.querySelector('#' + key + ' button');\n",
              "      quickchartButtonEl.disabled = true;  // To prevent multiple clicks.\n",
              "      quickchartButtonEl.classList.add('colab-df-spinner');\n",
              "      try {\n",
              "        const charts = await google.colab.kernel.invokeFunction(\n",
              "            'suggestCharts', [key], {});\n",
              "      } catch (error) {\n",
              "        console.error('Error during call to suggestCharts:', error);\n",
              "      }\n",
              "      quickchartButtonEl.classList.remove('colab-df-spinner');\n",
              "      quickchartButtonEl.classList.add('colab-df-quickchart-complete');\n",
              "    }\n",
              "    (() => {\n",
              "      let quickchartButtonEl =\n",
              "        document.querySelector('#df-78627f08-e865-478d-bd20-9a72e3b931fe button');\n",
              "      quickchartButtonEl.style.display =\n",
              "        google.colab.kernel.accessAllowed ? 'block' : 'none';\n",
              "    })();\n",
              "  </script>\n",
              "</div>\n",
              "\n",
              "  <div id=\"id_1a8f1330-af36-4335-ba71-9820bd8e8ebf\">\n",
              "    <style>\n",
              "      .colab-df-generate {\n",
              "        background-color: #E8F0FE;\n",
              "        border: none;\n",
              "        border-radius: 50%;\n",
              "        cursor: pointer;\n",
              "        display: none;\n",
              "        fill: #1967D2;\n",
              "        height: 32px;\n",
              "        padding: 0 0 0 0;\n",
              "        width: 32px;\n",
              "      }\n",
              "\n",
              "      .colab-df-generate:hover {\n",
              "        background-color: #E2EBFA;\n",
              "        box-shadow: 0px 1px 2px rgba(60, 64, 67, 0.3), 0px 1px 3px 1px rgba(60, 64, 67, 0.15);\n",
              "        fill: #174EA6;\n",
              "      }\n",
              "\n",
              "      [theme=dark] .colab-df-generate {\n",
              "        background-color: #3B4455;\n",
              "        fill: #D2E3FC;\n",
              "      }\n",
              "\n",
              "      [theme=dark] .colab-df-generate:hover {\n",
              "        background-color: #434B5C;\n",
              "        box-shadow: 0px 1px 3px 1px rgba(0, 0, 0, 0.15);\n",
              "        filter: drop-shadow(0px 1px 2px rgba(0, 0, 0, 0.3));\n",
              "        fill: #FFFFFF;\n",
              "      }\n",
              "    </style>\n",
              "    <button class=\"colab-df-generate\" onclick=\"generateWithVariable('df')\"\n",
              "            title=\"Generate code using this dataframe.\"\n",
              "            style=\"display:none;\">\n",
              "\n",
              "  <svg xmlns=\"http://www.w3.org/2000/svg\" height=\"24px\"viewBox=\"0 0 24 24\"\n",
              "       width=\"24px\">\n",
              "    <path d=\"M7,19H8.4L18.45,9,17,7.55,7,17.6ZM5,21V16.75L18.45,3.32a2,2,0,0,1,2.83,0l1.4,1.43a1.91,1.91,0,0,1,.58,1.4,1.91,1.91,0,0,1-.58,1.4L9.25,21ZM18.45,9,17,7.55Zm-12,3A5.31,5.31,0,0,0,4.9,8.1,5.31,5.31,0,0,0,1,6.5,5.31,5.31,0,0,0,4.9,4.9,5.31,5.31,0,0,0,6.5,1,5.31,5.31,0,0,0,8.1,4.9,5.31,5.31,0,0,0,12,6.5,5.46,5.46,0,0,0,6.5,12Z\"/>\n",
              "  </svg>\n",
              "    </button>\n",
              "    <script>\n",
              "      (() => {\n",
              "      const buttonEl =\n",
              "        document.querySelector('#id_1a8f1330-af36-4335-ba71-9820bd8e8ebf button.colab-df-generate');\n",
              "      buttonEl.style.display =\n",
              "        google.colab.kernel.accessAllowed ? 'block' : 'none';\n",
              "\n",
              "      buttonEl.onclick = () => {\n",
              "        google.colab.notebook.generateWithVariable('df');\n",
              "      }\n",
              "      })();\n",
              "    </script>\n",
              "  </div>\n",
              "\n",
              "    </div>\n",
              "  </div>\n"
            ],
            "application/vnd.google.colaboratory.intrinsic+json": {
              "type": "dataframe",
              "variable_name": "df"
            }
          },
          "metadata": {},
          "execution_count": 79
        }
      ]
    },
    {
      "cell_type": "code",
      "source": [
        "df.drop(columns=['Row ID', 'Order ID', 'Customer ID', 'Customer Name', 'Product ID', 'Product Name', 'Country', 'Ship Date', 'Order Date'], axis=1, inplace=True)"
      ],
      "metadata": {
        "id": "-J5IUGGK4g0E"
      },
      "execution_count": 80,
      "outputs": []
    },
    {
      "cell_type": "code",
      "source": [
        "from sklearn.model_selection import train_test_split\n",
        "y = df['Sales']\n",
        "x = df.drop(columns = ['Sales','order_year','City','State'],axis=1)\n",
        "\n",
        "X_train, X_test, y_train, y_test = train_test_split(x, y, test_size=0.2, random_state=40)"
      ],
      "metadata": {
        "id": "nbhhAR_P6ZQq"
      },
      "execution_count": 81,
      "outputs": []
    },
    {
      "cell_type": "code",
      "source": [
        "from sklearn.metrics import mean_absolute_error, mean_squared_error, r2_score\n",
        "from sklearn.linear_model import LinearRegression\n",
        "LRModel = LinearRegression()\n",
        "LRModel.fit(X_train, y_train)\n",
        "\n",
        "y_pred = LRModel.predict(X_test)\n",
        "\n",
        "mae = mean_absolute_error(y_test, y_pred)\n",
        "mse = mean_squared_error(y_test, y_pred)\n",
        "r2 = r2_score(y_test, y_pred)\n",
        "\n",
        "print(\"Mean Absolute Error:\", mae)\n",
        "print(\"Mean Squared Error:\", mse)\n",
        "print(\"R-squared:\", r2)"
      ],
      "metadata": {
        "id": "yhAEq5Jw6b2O",
        "colab": {
          "base_uri": "https://localhost:8080/"
        },
        "outputId": "0dd0d9b6-557e-46c2-e525-92306f1e23b6"
      },
      "execution_count": 82,
      "outputs": [
        {
          "output_type": "stream",
          "name": "stdout",
          "text": [
            "Mean Absolute Error: 127.0330844484762\n",
            "Mean Squared Error: 25090.30904217923\n",
            "R-squared: 0.12151845352709245\n"
          ]
        }
      ]
    },
    {
      "cell_type": "code",
      "source": [
        "# we used RandomForestRegressor to control overfitting and improve the Accuracy\n",
        "# it uses multiple Decision Trees\n",
        "from sklearn.ensemble import RandomForestRegressor\n",
        "\n",
        "RFModel = RandomForestRegressor(n_estimators=150, random_state=40)\n",
        "RFModel.fit(X_train, y_train)\n",
        "\n",
        "y_pred = RFModel.predict(X_test)\n",
        "\n",
        "mae = mean_absolute_error(y_test, y_pred)\n",
        "mse = mean_squared_error(y_test, y_pred)\n",
        "r2 = r2_score(y_test, y_pred)\n",
        "\n",
        "print(\"Mean Absolute Error:\", mae)\n",
        "print(\"Mean Squared Error:\",  mse)\n",
        "print(\"R-squared:\", r2)"
      ],
      "metadata": {
        "id": "feAn1IaP6ibV",
        "colab": {
          "base_uri": "https://localhost:8080/"
        },
        "outputId": "2fcdd0b7-86af-446b-abfa-35fd1db0547a"
      },
      "execution_count": 83,
      "outputs": [
        {
          "output_type": "stream",
          "name": "stdout",
          "text": [
            "Mean Absolute Error: 27.23843850925467\n",
            "Mean Squared Error: 3148.8639313653216\n",
            "R-squared: 0.8897495104022718\n"
          ]
        }
      ]
    },
    {
      "cell_type": "code",
      "source": [
        "# Decision Tree\n",
        "from sklearn.tree import DecisionTreeRegressor\n",
        "\n",
        "DTModel = DecisionTreeRegressor(max_depth=10)\n",
        "DTModel.fit(X_train, y_train)\n",
        "y_pred = DTModel.predict(X_test)\n",
        "\n",
        "mse = mean_squared_error(y_test, y_pred)\n",
        "r2 = r2_score(y_test, y_pred)\n",
        "\n",
        "print(\"Mean Squared Error:\", mse)\n",
        "print(\"R-squared:\", r2)"
      ],
      "metadata": {
        "id": "qQKz9UuU6k99",
        "colab": {
          "base_uri": "https://localhost:8080/"
        },
        "outputId": "1f74d40b-1d88-411f-a877-5dbd0d247b5a"
      },
      "execution_count": 84,
      "outputs": [
        {
          "output_type": "stream",
          "name": "stdout",
          "text": [
            "Mean Squared Error: 5236.211259367837\n",
            "R-squared: 0.8166656713133582\n"
          ]
        }
      ]
    },
    {
      "cell_type": "markdown",
      "source": [
        "# **Time Series**"
      ],
      "metadata": {
        "id": "ouadSJxMiZqq"
      }
    },
    {
      "cell_type": "code",
      "source": [
        "df = pd.read_csv('Walmart Dataset.csv',encoding='latin-1')\n",
        "\n",
        "# Select only the 'Order Date' and 'Sales' columns\n",
        "series = df[['Order Date', 'Sales']]\n",
        "series.to_csv('Time Series_dataset.csv', index=False)"
      ],
      "metadata": {
        "id": "uvv52JoOWqvB"
      },
      "execution_count": 85,
      "outputs": []
    },
    {
      "cell_type": "code",
      "source": [
        "df['Order Date']=pd.to_datetime(df['Order Date'])\n",
        "df['Ship Date']=pd.to_datetime(df['Ship Date'])\n",
        "df['year'] = df['Order Date'].dt.year\n",
        "df['month'] = df['Order Date'].dt.month\n",
        "df.drop(['Order Date'],axis=1,inplace=True)\n",
        "df['Ship year'] = df['Ship Date'].dt.year\n",
        "df['Ship month'] = df['Ship Date'].dt.month\n",
        "df.drop(['Ship Date'],axis=1,inplace=True)"
      ],
      "metadata": {
        "id": "-nUY0a2eYV-v"
      },
      "execution_count": 86,
      "outputs": []
    },
    {
      "cell_type": "code",
      "source": [
        "series['Order Date'] = pd.to_datetime(series['Order Date'])\n",
        "series.set_index('Order Date', inplace=True)\n",
        "series = series['Sales'].resample('M').sum().reset_index()\n",
        "series['Order Date'] = series['Order Date'] - pd.offsets.MonthBegin(1)\n",
        "print(series)"
      ],
      "metadata": {
        "colab": {
          "base_uri": "https://localhost:8080/"
        },
        "id": "67NtsXH2YahS",
        "outputId": "70699cc1-3a16-4633-86cd-61107515b33a"
      },
      "execution_count": 87,
      "outputs": [
        {
          "output_type": "stream",
          "name": "stdout",
          "text": [
            "   Order Date        Sales\n",
            "0  2014-01-01   14236.8950\n",
            "1  2014-02-01    4519.8920\n",
            "2  2014-03-01   55691.0090\n",
            "3  2014-04-01   28295.3450\n",
            "4  2014-05-01   23648.2870\n",
            "5  2014-06-01   34595.1276\n",
            "6  2014-07-01   33946.3930\n",
            "7  2014-08-01   27909.4685\n",
            "8  2014-09-01   81777.3508\n",
            "9  2014-10-01   31453.3930\n",
            "10 2014-11-01   78628.7167\n",
            "11 2014-12-01   69545.6205\n",
            "12 2015-01-01   18174.0756\n",
            "13 2015-02-01   11951.4110\n",
            "14 2015-03-01   38726.2520\n",
            "15 2015-04-01   34195.2085\n",
            "16 2015-05-01   30131.6865\n",
            "17 2015-06-01   24797.2920\n",
            "18 2015-07-01   28765.3250\n",
            "19 2015-08-01   36898.3322\n",
            "20 2015-09-01   64595.9180\n",
            "21 2015-10-01   31404.9235\n",
            "22 2015-11-01   75972.5635\n",
            "23 2015-12-01   74919.5212\n",
            "24 2016-01-01   18542.4910\n",
            "25 2016-02-01   22978.8150\n",
            "26 2016-03-01   51715.8750\n",
            "27 2016-04-01   38750.0390\n",
            "28 2016-05-01   56987.7280\n",
            "29 2016-06-01   40344.5340\n",
            "30 2016-07-01   39261.9630\n",
            "31 2016-08-01   31115.3743\n",
            "32 2016-09-01   73410.0249\n",
            "33 2016-10-01   59687.7450\n",
            "34 2016-11-01   79411.9658\n",
            "35 2016-12-01   96999.0430\n",
            "36 2017-01-01   43971.3740\n",
            "37 2017-02-01   20301.1334\n",
            "38 2017-03-01   58872.3528\n",
            "39 2017-04-01   36521.5361\n",
            "40 2017-05-01   44261.1102\n",
            "41 2017-06-01   52981.7257\n",
            "42 2017-07-01   45264.4160\n",
            "43 2017-08-01   63120.8880\n",
            "44 2017-09-01   87866.6520\n",
            "45 2017-10-01   77776.9232\n",
            "46 2017-11-01  118447.8250\n",
            "47 2017-12-01   83829.3188\n"
          ]
        },
        {
          "output_type": "stream",
          "name": "stderr",
          "text": [
            "<ipython-input-87-14befa08c6d9>:1: SettingWithCopyWarning: \n",
            "A value is trying to be set on a copy of a slice from a DataFrame.\n",
            "Try using .loc[row_indexer,col_indexer] = value instead\n",
            "\n",
            "See the caveats in the documentation: https://pandas.pydata.org/pandas-docs/stable/user_guide/indexing.html#returning-a-view-versus-a-copy\n",
            "  series['Order Date'] = pd.to_datetime(series['Order Date'])\n"
          ]
        }
      ]
    },
    {
      "cell_type": "code",
      "source": [
        "series.set_index('Order Date', inplace=True)"
      ],
      "metadata": {
        "id": "Bd2PMXcjZCTy"
      },
      "execution_count": 88,
      "outputs": []
    },
    {
      "cell_type": "code",
      "source": [
        "series.head(5)"
      ],
      "metadata": {
        "colab": {
          "base_uri": "https://localhost:8080/",
          "height": 0
        },
        "id": "2jwsTRZQZHPe",
        "outputId": "1503916b-07ba-4c54-9441-f4a69c79e48e"
      },
      "execution_count": 89,
      "outputs": [
        {
          "output_type": "execute_result",
          "data": {
            "text/plain": [
              "                Sales\n",
              "Order Date           \n",
              "2014-01-01  14236.895\n",
              "2014-02-01   4519.892\n",
              "2014-03-01  55691.009\n",
              "2014-04-01  28295.345\n",
              "2014-05-01  23648.287"
            ],
            "text/html": [
              "\n",
              "  <div id=\"df-34b9ccc6-f93a-4899-b203-05d4cd1beb0f\" class=\"colab-df-container\">\n",
              "    <div>\n",
              "<style scoped>\n",
              "    .dataframe tbody tr th:only-of-type {\n",
              "        vertical-align: middle;\n",
              "    }\n",
              "\n",
              "    .dataframe tbody tr th {\n",
              "        vertical-align: top;\n",
              "    }\n",
              "\n",
              "    .dataframe thead th {\n",
              "        text-align: right;\n",
              "    }\n",
              "</style>\n",
              "<table border=\"1\" class=\"dataframe\">\n",
              "  <thead>\n",
              "    <tr style=\"text-align: right;\">\n",
              "      <th></th>\n",
              "      <th>Sales</th>\n",
              "    </tr>\n",
              "    <tr>\n",
              "      <th>Order Date</th>\n",
              "      <th></th>\n",
              "    </tr>\n",
              "  </thead>\n",
              "  <tbody>\n",
              "    <tr>\n",
              "      <th>2014-01-01</th>\n",
              "      <td>14236.895</td>\n",
              "    </tr>\n",
              "    <tr>\n",
              "      <th>2014-02-01</th>\n",
              "      <td>4519.892</td>\n",
              "    </tr>\n",
              "    <tr>\n",
              "      <th>2014-03-01</th>\n",
              "      <td>55691.009</td>\n",
              "    </tr>\n",
              "    <tr>\n",
              "      <th>2014-04-01</th>\n",
              "      <td>28295.345</td>\n",
              "    </tr>\n",
              "    <tr>\n",
              "      <th>2014-05-01</th>\n",
              "      <td>23648.287</td>\n",
              "    </tr>\n",
              "  </tbody>\n",
              "</table>\n",
              "</div>\n",
              "    <div class=\"colab-df-buttons\">\n",
              "\n",
              "  <div class=\"colab-df-container\">\n",
              "    <button class=\"colab-df-convert\" onclick=\"convertToInteractive('df-34b9ccc6-f93a-4899-b203-05d4cd1beb0f')\"\n",
              "            title=\"Convert this dataframe to an interactive table.\"\n",
              "            style=\"display:none;\">\n",
              "\n",
              "  <svg xmlns=\"http://www.w3.org/2000/svg\" height=\"24px\" viewBox=\"0 -960 960 960\">\n",
              "    <path d=\"M120-120v-720h720v720H120Zm60-500h600v-160H180v160Zm220 220h160v-160H400v160Zm0 220h160v-160H400v160ZM180-400h160v-160H180v160Zm440 0h160v-160H620v160ZM180-180h160v-160H180v160Zm440 0h160v-160H620v160Z\"/>\n",
              "  </svg>\n",
              "    </button>\n",
              "\n",
              "  <style>\n",
              "    .colab-df-container {\n",
              "      display:flex;\n",
              "      gap: 12px;\n",
              "    }\n",
              "\n",
              "    .colab-df-convert {\n",
              "      background-color: #E8F0FE;\n",
              "      border: none;\n",
              "      border-radius: 50%;\n",
              "      cursor: pointer;\n",
              "      display: none;\n",
              "      fill: #1967D2;\n",
              "      height: 32px;\n",
              "      padding: 0 0 0 0;\n",
              "      width: 32px;\n",
              "    }\n",
              "\n",
              "    .colab-df-convert:hover {\n",
              "      background-color: #E2EBFA;\n",
              "      box-shadow: 0px 1px 2px rgba(60, 64, 67, 0.3), 0px 1px 3px 1px rgba(60, 64, 67, 0.15);\n",
              "      fill: #174EA6;\n",
              "    }\n",
              "\n",
              "    .colab-df-buttons div {\n",
              "      margin-bottom: 4px;\n",
              "    }\n",
              "\n",
              "    [theme=dark] .colab-df-convert {\n",
              "      background-color: #3B4455;\n",
              "      fill: #D2E3FC;\n",
              "    }\n",
              "\n",
              "    [theme=dark] .colab-df-convert:hover {\n",
              "      background-color: #434B5C;\n",
              "      box-shadow: 0px 1px 3px 1px rgba(0, 0, 0, 0.15);\n",
              "      filter: drop-shadow(0px 1px 2px rgba(0, 0, 0, 0.3));\n",
              "      fill: #FFFFFF;\n",
              "    }\n",
              "  </style>\n",
              "\n",
              "    <script>\n",
              "      const buttonEl =\n",
              "        document.querySelector('#df-34b9ccc6-f93a-4899-b203-05d4cd1beb0f button.colab-df-convert');\n",
              "      buttonEl.style.display =\n",
              "        google.colab.kernel.accessAllowed ? 'block' : 'none';\n",
              "\n",
              "      async function convertToInteractive(key) {\n",
              "        const element = document.querySelector('#df-34b9ccc6-f93a-4899-b203-05d4cd1beb0f');\n",
              "        const dataTable =\n",
              "          await google.colab.kernel.invokeFunction('convertToInteractive',\n",
              "                                                    [key], {});\n",
              "        if (!dataTable) return;\n",
              "\n",
              "        const docLinkHtml = 'Like what you see? Visit the ' +\n",
              "          '<a target=\"_blank\" href=https://colab.research.google.com/notebooks/data_table.ipynb>data table notebook</a>'\n",
              "          + ' to learn more about interactive tables.';\n",
              "        element.innerHTML = '';\n",
              "        dataTable['output_type'] = 'display_data';\n",
              "        await google.colab.output.renderOutput(dataTable, element);\n",
              "        const docLink = document.createElement('div');\n",
              "        docLink.innerHTML = docLinkHtml;\n",
              "        element.appendChild(docLink);\n",
              "      }\n",
              "    </script>\n",
              "  </div>\n",
              "\n",
              "\n",
              "<div id=\"df-4e926ea8-38ff-449c-a1ee-e7afe357d147\">\n",
              "  <button class=\"colab-df-quickchart\" onclick=\"quickchart('df-4e926ea8-38ff-449c-a1ee-e7afe357d147')\"\n",
              "            title=\"Suggest charts\"\n",
              "            style=\"display:none;\">\n",
              "\n",
              "<svg xmlns=\"http://www.w3.org/2000/svg\" height=\"24px\"viewBox=\"0 0 24 24\"\n",
              "     width=\"24px\">\n",
              "    <g>\n",
              "        <path d=\"M19 3H5c-1.1 0-2 .9-2 2v14c0 1.1.9 2 2 2h14c1.1 0 2-.9 2-2V5c0-1.1-.9-2-2-2zM9 17H7v-7h2v7zm4 0h-2V7h2v10zm4 0h-2v-4h2v4z\"/>\n",
              "    </g>\n",
              "</svg>\n",
              "  </button>\n",
              "\n",
              "<style>\n",
              "  .colab-df-quickchart {\n",
              "      --bg-color: #E8F0FE;\n",
              "      --fill-color: #1967D2;\n",
              "      --hover-bg-color: #E2EBFA;\n",
              "      --hover-fill-color: #174EA6;\n",
              "      --disabled-fill-color: #AAA;\n",
              "      --disabled-bg-color: #DDD;\n",
              "  }\n",
              "\n",
              "  [theme=dark] .colab-df-quickchart {\n",
              "      --bg-color: #3B4455;\n",
              "      --fill-color: #D2E3FC;\n",
              "      --hover-bg-color: #434B5C;\n",
              "      --hover-fill-color: #FFFFFF;\n",
              "      --disabled-bg-color: #3B4455;\n",
              "      --disabled-fill-color: #666;\n",
              "  }\n",
              "\n",
              "  .colab-df-quickchart {\n",
              "    background-color: var(--bg-color);\n",
              "    border: none;\n",
              "    border-radius: 50%;\n",
              "    cursor: pointer;\n",
              "    display: none;\n",
              "    fill: var(--fill-color);\n",
              "    height: 32px;\n",
              "    padding: 0;\n",
              "    width: 32px;\n",
              "  }\n",
              "\n",
              "  .colab-df-quickchart:hover {\n",
              "    background-color: var(--hover-bg-color);\n",
              "    box-shadow: 0 1px 2px rgba(60, 64, 67, 0.3), 0 1px 3px 1px rgba(60, 64, 67, 0.15);\n",
              "    fill: var(--button-hover-fill-color);\n",
              "  }\n",
              "\n",
              "  .colab-df-quickchart-complete:disabled,\n",
              "  .colab-df-quickchart-complete:disabled:hover {\n",
              "    background-color: var(--disabled-bg-color);\n",
              "    fill: var(--disabled-fill-color);\n",
              "    box-shadow: none;\n",
              "  }\n",
              "\n",
              "  .colab-df-spinner {\n",
              "    border: 2px solid var(--fill-color);\n",
              "    border-color: transparent;\n",
              "    border-bottom-color: var(--fill-color);\n",
              "    animation:\n",
              "      spin 1s steps(1) infinite;\n",
              "  }\n",
              "\n",
              "  @keyframes spin {\n",
              "    0% {\n",
              "      border-color: transparent;\n",
              "      border-bottom-color: var(--fill-color);\n",
              "      border-left-color: var(--fill-color);\n",
              "    }\n",
              "    20% {\n",
              "      border-color: transparent;\n",
              "      border-left-color: var(--fill-color);\n",
              "      border-top-color: var(--fill-color);\n",
              "    }\n",
              "    30% {\n",
              "      border-color: transparent;\n",
              "      border-left-color: var(--fill-color);\n",
              "      border-top-color: var(--fill-color);\n",
              "      border-right-color: var(--fill-color);\n",
              "    }\n",
              "    40% {\n",
              "      border-color: transparent;\n",
              "      border-right-color: var(--fill-color);\n",
              "      border-top-color: var(--fill-color);\n",
              "    }\n",
              "    60% {\n",
              "      border-color: transparent;\n",
              "      border-right-color: var(--fill-color);\n",
              "    }\n",
              "    80% {\n",
              "      border-color: transparent;\n",
              "      border-right-color: var(--fill-color);\n",
              "      border-bottom-color: var(--fill-color);\n",
              "    }\n",
              "    90% {\n",
              "      border-color: transparent;\n",
              "      border-bottom-color: var(--fill-color);\n",
              "    }\n",
              "  }\n",
              "</style>\n",
              "\n",
              "  <script>\n",
              "    async function quickchart(key) {\n",
              "      const quickchartButtonEl =\n",
              "        document.querySelector('#' + key + ' button');\n",
              "      quickchartButtonEl.disabled = true;  // To prevent multiple clicks.\n",
              "      quickchartButtonEl.classList.add('colab-df-spinner');\n",
              "      try {\n",
              "        const charts = await google.colab.kernel.invokeFunction(\n",
              "            'suggestCharts', [key], {});\n",
              "      } catch (error) {\n",
              "        console.error('Error during call to suggestCharts:', error);\n",
              "      }\n",
              "      quickchartButtonEl.classList.remove('colab-df-spinner');\n",
              "      quickchartButtonEl.classList.add('colab-df-quickchart-complete');\n",
              "    }\n",
              "    (() => {\n",
              "      let quickchartButtonEl =\n",
              "        document.querySelector('#df-4e926ea8-38ff-449c-a1ee-e7afe357d147 button');\n",
              "      quickchartButtonEl.style.display =\n",
              "        google.colab.kernel.accessAllowed ? 'block' : 'none';\n",
              "    })();\n",
              "  </script>\n",
              "</div>\n",
              "\n",
              "    </div>\n",
              "  </div>\n"
            ],
            "application/vnd.google.colaboratory.intrinsic+json": {
              "type": "dataframe",
              "variable_name": "series",
              "summary": "{\n  \"name\": \"series\",\n  \"rows\": 48,\n  \"fields\": [\n    {\n      \"column\": \"Order Date\",\n      \"properties\": {\n        \"dtype\": \"date\",\n        \"min\": \"2014-01-01 00:00:00\",\n        \"max\": \"2017-12-01 00:00:00\",\n        \"num_unique_values\": 48,\n        \"samples\": [\n          \"2016-04-01 00:00:00\",\n          \"2017-05-01 00:00:00\",\n          \"2016-03-01 00:00:00\"\n        ],\n        \"semantic_type\": \"\",\n        \"description\": \"\"\n      }\n    },\n    {\n      \"column\": \"Sales\",\n      \"properties\": {\n        \"dtype\": \"number\",\n        \"std\": 25195.890699956264,\n        \"min\": 4519.892,\n        \"max\": 118447.825,\n        \"num_unique_values\": 48,\n        \"samples\": [\n          38750.039,\n          44261.1102,\n          51715.875\n        ],\n        \"semantic_type\": \"\",\n        \"description\": \"\"\n      }\n    }\n  ]\n}"
            }
          },
          "metadata": {},
          "execution_count": 89
        }
      ]
    },
    {
      "cell_type": "code",
      "source": [
        "# Step 1: Visualize the time series\n",
        "import matplotlib.pyplot as plt\n",
        "plt.figure(figsize=(12, 8))\n",
        "plt.plot(series.index, series['Sales'], label='Sales', color='blue')\n",
        "plt.title('Sales Time Series')\n",
        "plt.xlabel('Date')\n",
        "plt.ylabel('Total Sales')\n",
        "plt.legend(loc='best')\n",
        "plt.grid(True)\n",
        "\n",
        "plt.show()"
      ],
      "metadata": {
        "colab": {
          "base_uri": "https://localhost:8080/",
          "height": 0
        },
        "id": "LX-YPSAJZd7v",
        "outputId": "eeaf6673-7c04-44e7-da05-bb757e68408c"
      },
      "execution_count": 90,
      "outputs": [
        {
          "output_type": "display_data",
          "data": {
            "text/plain": [
              "<Figure size 1200x800 with 1 Axes>"
            ],
            "image/png": "[encoded data removed]"
          },
          "metadata": {}
        }
      ]
    },
    {
      "cell_type": "code",
      "source": [
        "# Step 2: Stationarize the series\n",
        "from statsmodels.tsa.stattools import adfuller\n",
        "def stationarize_series(series):\n",
        "    rolling_mean = series.rolling(window=8).mean()\n",
        "    rolling_std = series.rolling(window=8).std()\n",
        "\n",
        "    plt.figure(figsize=(10, 6))\n",
        "    plt.plot(series, label='Original Data')\n",
        "    plt.plot(rolling_mean, color='red', label='Rolling Mean (window=10)')\n",
        "    plt.plot(rolling_std, color='green', label='Rolling Std (window=10)')\n",
        "    plt.title('Time Series Data with Rolling Mean and Rolling Std Deviation')\n",
        "    plt.xlabel('Date')\n",
        "    plt.ylabel('Value')\n",
        "    plt.legend()\n",
        "    plt.grid(True)\n",
        "    plt.show()\n",
        "    # Perform Dickey-Fuller test\n",
        "    result = adfuller(series)\n",
        "    print('ADF Statistic:', result[0])\n",
        "    print('p-value:', result[1])\n",
        "    print('Critical Values:')\n",
        "    for key, value in result[4].items():\n",
        "        print('\\t{}: {}'.format(key, value))\n",
        "stationarize_series(series['Sales'])"
      ],
      "metadata": {
        "colab": {
          "base_uri": "https://localhost:8080/",
          "height": 0
        },
        "id": "jGbJCACWZ9ax",
        "outputId": "6103e75c-454a-46cc-e6ce-9922be8def2c"
      },
      "execution_count": 91,
      "outputs": [
        {
          "output_type": "display_data",
          "data": {
            "text/plain": [
              "<Figure size 1000x600 with 1 Axes>"
            ],
            "image/png": "[encoded data removed]"
          },
          "metadata": {}
        },
        {
          "output_type": "stream",
          "name": "stdout",
          "text": [
            "ADF Statistic: -4.493767844002665\n",
            "p-value: 0.00020180198458237758\n",
            "Critical Values:\n",
            "\t1%: -3.5778480370438146\n",
            "\t5%: -2.925338105429433\n",
            "\t10%: -2.6007735310095064\n"
          ]
        }
      ]
    },
    {
      "cell_type": "code",
      "source": [
        "#stationarize_series(series.Sales.diff().dropna())"
      ],
      "metadata": {
        "id": "rxNbQLhkRbev"
      },
      "execution_count": 92,
      "outputs": []
    },
    {
      "cell_type": "code",
      "source": [
        "#stationarize_series(series.Sales.diff().diff().dropna())"
      ],
      "metadata": {
        "id": "ZHcxVxT6bt-1"
      },
      "execution_count": 93,
      "outputs": []
    },
    {
      "cell_type": "code",
      "source": [
        "# Finding q parameter value\n",
        "#from statsmodels.graphics.tsaplots import plot_acf\n",
        "#plot_acf(series.diff().dropna())"
      ],
      "metadata": {
        "id": "0OP9x8SlcDgm"
      },
      "execution_count": 94,
      "outputs": []
    },
    {
      "cell_type": "code",
      "source": [
        "# Finding q parameter value\n",
        "from statsmodels.graphics.tsaplots import plot_acf\n",
        "plot_acf(series.dropna())"
      ],
      "metadata": {
        "colab": {
          "base_uri": "https://localhost:8080/",
          "height": 0
        },
        "id": "lowLFvk4KIRF",
        "outputId": "6f4c5a07-55bc-4722-ad11-cd113b2554b5"
      },
      "execution_count": 95,
      "outputs": [
        {
          "output_type": "execute_result",
          "data": {
            "text/plain": [
              "<Figure size 640x480 with 1 Axes>"
            ],
            "image/png": "[encoded data removed]"
          },
          "metadata": {},
          "execution_count": 95
        },
        {
          "output_type": "display_data",
          "data": {
            "text/plain": [
              "<Figure size 640x480 with 1 Axes>"
            ],
            "image/png": "[encoded data removed]"
          },
          "metadata": {}
        }
      ]
    },
    {
      "cell_type": "markdown",
      "source": [],
      "metadata": {
        "id": "rsMmAx-pKP6k"
      }
    },
    {
      "cell_type": "code",
      "source": [
        "# Step 4: Build the ARIMA model\n",
        "from statsmodels.tsa.arima.model import ARIMA\n",
        "model = ARIMA(series['Sales'], order=(1,1,2))\n",
        "arima_model = model.fit()\n",
        "# Step 5: Predict\n",
        "forecast = arima_model.predict()"
      ],
      "metadata": {
        "colab": {
          "base_uri": "https://localhost:8080/"
        },
        "id": "rNI91UL6fEB8",
        "outputId": "2b56bbe5-f085-44fc-f65d-67caf12c05ea"
      },
      "execution_count": 96,
      "outputs": [
        {
          "output_type": "stream",
          "name": "stderr",
          "text": [
            "/usr/local/lib/python3.10/dist-packages/statsmodels/tsa/base/tsa_model.py:473: ValueWarning: No frequency information was provided, so inferred frequency MS will be used.\n",
            "  self._init_dates(dates, freq)\n",
            "/usr/local/lib/python3.10/dist-packages/statsmodels/tsa/base/tsa_model.py:473: ValueWarning: No frequency information was provided, so inferred frequency MS will be used.\n",
            "  self._init_dates(dates, freq)\n",
            "/usr/local/lib/python3.10/dist-packages/statsmodels/tsa/base/tsa_model.py:473: ValueWarning: No frequency information was provided, so inferred frequency MS will be used.\n",
            "  self._init_dates(dates, freq)\n"
          ]
        }
      ]
    },
    {
      "cell_type": "code",
      "source": [
        "plt.figure(figsize=(10, 6))\n",
        "plt.plot(series.index, series['Sales'], label='Original', color='blue')\n",
        "plt.plot(series.index ,  forecast, label='Forecast', color='green')\n",
        "plt.title('total sales Forecast using ARIMA')\n",
        "plt.xlabel('Date')\n",
        "plt.ylabel('total sales')\n",
        "plt.legend(loc='best')\n",
        "plt.grid(True)\n",
        "plt.show()"
      ],
      "metadata": {
        "colab": {
          "base_uri": "https://localhost:8080/",
          "height": 0
        },
        "id": "WXXpb_obfR__",
        "outputId": "dae68d1b-d046-40a9-fc25-74b2206ccde8"
      },
      "execution_count": 97,
      "outputs": [
        {
          "output_type": "display_data",
          "data": {
            "text/plain": [
              "<Figure size 1000x600 with 1 Axes>"
            ],
            "image/png": "[encoded data removed]"
          },
          "metadata": {}
        }
      ]
    },
    {
      "cell_type": "code",
      "source": [
        "start_index = '2018-1-1'\n",
        "end_index = '2021-1-1'"
      ],
      "metadata": {
        "id": "gW-q0pGnjwTR"
      },
      "execution_count": 98,
      "outputs": []
    },
    {
      "cell_type": "code",
      "source": [
        "forecast = arima_model.predict(start=start_index, end=end_index , dynamic=False)\n",
        "# Plot the forecast\n",
        "plt.figure(figsize=(10, 6))\n",
        "plt.plot(series.index, series['Sales'], label='Original', color='blue')\n",
        "plt.plot(pd.date_range(start=series.index[-1], periods=len(forecast), freq='M'), forecast, label='Forecast', color='red')\n",
        "plt.title('Walmart Sales Forecast using ARIMA')\n",
        "plt.xlabel('Order Date')\n",
        "plt.ylabel('Sales')\n",
        "plt.legend(loc='best')\n",
        "plt.grid(True)\n",
        "plt.show()"
      ],
      "metadata": {
        "colab": {
          "base_uri": "https://localhost:8080/",
          "height": 0
        },
        "id": "-xDbOjSEjwL4",
        "outputId": "cbc6983c-f184-4dda-e511-86f2f7487730"
      },
      "execution_count": 99,
      "outputs": [
        {
          "output_type": "display_data",
          "data": {
            "text/plain": [
              "<Figure size 1000x600 with 1 Axes>"
            ],
            "image/png": "[encoded data removed]"
          },
          "metadata": {}
        }
      ]
    }
  ],
  "metadata": {
    "colab": {
      "provenance": [],
      "collapsed_sections": [
        "1gR9H060XLaz",
        "pvjMQGoEXWTd",
        "9lcwZQGeYM25",
        "fcKDAOk5VPfc",
        "PtwvFlj_VYNp",
        "rZyUjHVDt7Ix"
      ],
      "include_colab_link": true
    },
    "kernelspec": {
      "display_name": "Python 3",
      "name": "python3"
    },
    "language_info": {
      "name": "python"
    }
  },
  "nbformat": 4,
  "nbformat_minor": 0
}